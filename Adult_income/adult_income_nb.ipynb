{
 "cells": [
  {
   "cell_type": "code",
   "execution_count": 1,
   "metadata": {
    "metadata": {}
   },
   "outputs": [
    {
     "name": "stdout",
     "output_type": "stream",
     "text": [
      "**Starting data processing** \n",
      " \n",
      " \n",
      "48626\n"
     ]
    }
   ],
   "source": [
    "import numpy as np\n",
    "import pandas as pd\n",
    "import matplotlib.pyplot as plt\n",
    "import seaborn as sns\n",
    "from sklearn.linear_model import LinearRegression\n",
    "from sklearn.model_selection import train_test_split\n",
    "from sklearn.linear_model import LogisticRegression\n",
    "from sklearn.metrics import accuracy_score, classification_report\n",
    "from sklearn.preprocessing import StandardScaler\n",
    "from sklearn.preprocessing import MinMaxScaler\n",
    "from sklearn.metrics import accuracy_score, r2_score\n",
    "from sklearn.impute import KNNImputer\n",
    "from sklearn.pipeline import Pipeline\n",
    "from sklearn.preprocessing import LabelEncoder\n",
    "from sklearn.ensemble import RandomForestClassifier\n",
    "from sklearn import preprocessing\n",
    "from utils import *\n",
    "\n",
    "import warnings\n",
    "warnings.filterwarnings('ignore')\n",
    "pd.set_option('display.max_columns', None)\n",
    "\n",
    "import numpy as np\n",
    "import pandas as pd\n",
    "df = pd.read_csv('./Data/adult.csv')\n",
    "# import os\n",
    "# default_n_threads = 1\n",
    "# os.environ['OPENBLAS_NUM_THREADS'] = f\"{default_n_threads}\"\n",
    "# os.environ['MKL_NUM_THREADS'] = f\"{default_n_threads}\"\n",
    "# os.environ['OMP_NUM_THREADS'] = f\"{default_n_threads}\"\n",
    "print(\"**Starting data processing** \\n \\n \")\n",
    "def convert_marital_status(status):\n",
    "    if status in ['Married-civ-spouse', 'Married-spouse-absent', 'Married-AF-spouse']:\n",
    "        return 'married'\n",
    "    elif status in ['Never-married', 'Separated', 'Widowed']:\n",
    "        return 'single'\n",
    "    else:\n",
    "        return 'divorced'\n",
    "\n",
    "df['marital-status'] = df['marital-status'].apply(convert_marital_status)\n",
    "\n",
    "df['native-country'] = df['native-country'].replace('Outlying-US(Guam-USVI-etc)' , 'US Minor Islands')\n",
    "\n",
    "df = df.drop(['capital-gain', 'capital-loss', 'fnlwgt'], axis=1)\n",
    "\n",
    "income_mapping = {'<=50K': 0, '>50K': 1}\n",
    "df['income'] = df['income'].map(income_mapping)\n",
    "\n",
    "\n",
    "def fill_missing_categorical(df, column):\n",
    "    df[column] = df[column].replace('?', np.nan)\n",
    "\n",
    "    if df[column].notna().all():\n",
    "        return df\n",
    "\n",
    "    known = df[df[column].notna()]\n",
    "    unknown = df[df[column].isna()]\n",
    "\n",
    "    le = LabelEncoder()\n",
    "    known[column] = le.fit_transform(known[column])\n",
    "    X_known = known.drop(column, axis=1)\n",
    "    y_known = known[column]\n",
    "\n",
    "    categorical_cols = X_known.select_dtypes(include=['object']).columns\n",
    "\n",
    "    le_cat = preprocessing.LabelEncoder()\n",
    "    X_known[categorical_cols] = X_known[categorical_cols].apply(lambda col: le_cat.fit_transform(col.astype(str)))\n",
    "\n",
    "    clf = RandomForestClassifier()\n",
    "    clf.fit(X_known, y_known)\n",
    "\n",
    "    X_unknown = unknown.drop(column, axis=1)\n",
    "\n",
    "    X_unknown[categorical_cols] = X_unknown[categorical_cols].apply(lambda col: le_cat.fit_transform(col.astype(str)))\n",
    "\n",
    "    unknown[column] = clf.predict(X_unknown)\n",
    "\n",
    "    df = pd.concat([known, unknown], axis=0)\n",
    "\n",
    "    df[column] = le.inverse_transform(df[column])\n",
    "    \n",
    "    return df\n",
    "\n",
    "df = fill_missing_categorical(df, 'native-country')\n",
    "df = fill_missing_categorical(df, 'occupation')\n",
    "df = fill_missing_categorical(df, 'workclass')\n",
    "\n",
    "Q1 = df['age'].quantile(0.25)\n",
    "Q3 = df['age'].quantile(0.75)\n",
    "IQR = Q3 - Q1\n",
    "outliers = df[(df['age'] < Q1 - 1.5 * IQR) | (df['age'] > Q3 + 1.5 * IQR)]\n",
    "\n",
    "df.drop(outliers.index, inplace=True)\n",
    "df['gender'] = df['gender'].map({'Male': 1, 'Female': 0})\n",
    "df.drop(['age', 'hours-per-week'], axis=1, inplace=True)\n",
    "df.reset_index(inplace=True)\n",
    "columns_to_keep = ['workclass', 'educational-num', 'marital-status', 'occupation', 'gender', 'native-country', 'income']\n",
    "Features = df[columns_to_keep]\n",
    "X= Features\n",
    "\n",
    "X = pd.get_dummies(X, columns=['workclass', 'marital-status', 'occupation', 'native-country'])\n",
    "\n",
    "X = X.drop(columns=['income'])\n",
    "y = df['income']\n",
    "\n",
    "\n",
    "scaler = StandardScaler()\n",
    "X1 = scaler.fit_transform(X)\n",
    "X1 =X1/np.linalg.norm(X1,axis =1).max()\n",
    "\n",
    "X_fil = []\n",
    "Y_fil = []\n",
    "\n",
    "# ind  = y.values.sum()\n",
    "ind = len(y.values)\n",
    "counter = 0\n",
    "print(ind)\n",
    "for i in range(len(y.values)):\n",
    "    if y.values[i] == 0:\n",
    "        if counter < ind:\n",
    "            X_fil.append(X1[i])\n",
    "            Y_fil.append(y.values[i])\n",
    "            counter+=1\n",
    "    else:\n",
    "        X_fil.append(X1[i])\n",
    "        Y_fil.append(y.values[i])\n",
    "        \n",
    "\n",
    "import torch\n",
    "x_train,x_test,y_train,y_test = train_test_split(X_fil,Y_fil,test_size = 0.2,random_state = 42)\n",
    "\n",
    "\n",
    "x_train_tensor = torch.tensor(x_train, dtype=torch.float32)\n",
    "x_test_tensor = torch.tensor(x_test, dtype=torch.float32)\n",
    "y_train_tensor = torch.tensor(y_train, dtype=torch.float32)\n",
    "y_test_tensor = torch.tensor(y_test, dtype=torch.float32)\n",
    "\n",
    "x_train_tensor = normalize2(x_train_tensor)\n",
    "x_test_tensor = normalize2(x_test_tensor)\n",
    "\n",
    "    \n",
    "    \n",
    "\n",
    "\n",
    "\n",
    "\n",
    "\n",
    "\n",
    "\n",
    "# knn = KNeighborsClassifier(n_neighbors=10)\n",
    "\n",
    "\n",
    "# knn.fit(X_emb_train_priv, Y_train)\n",
    "\n",
    "# y_pred = knn.predict(X_emb_test)\n",
    "# print((y_pred == np.asarray(y_test_tensor)).sum()/len(y_pred))"
   ]
  },
  {
   "cell_type": "code",
   "execution_count": 2,
   "metadata": {
    "metadata": {}
   },
   "outputs": [
    {
     "name": "stdout",
     "output_type": "stream",
     "text": [
      "Sequential(\n",
      "  (0): Linear(in_features=68, out_features=64, bias=True)\n",
      "  (1): ReLU()\n",
      "  (2): Linear(in_features=64, out_features=128, bias=True)\n",
      "  (3): ReLU()\n",
      "  (4): Linear(in_features=128, out_features=32, bias=True)\n",
      "  (5): ReLU()\n",
      "  (6): Linear(in_features=32, out_features=1, bias=True)\n",
      "  (7): Sigmoid()\n",
      ")\n"
     ]
    }
   ],
   "source": [
    "import torch\n",
    "import torch.nn as nn\n",
    "\n",
    "# Define the model architecture\n",
    "model = nn.Sequential(\n",
    "    nn.Linear(68, 64),  # Input layer with 100 input features and 64 output features\n",
    "    nn.ReLU(),  # Activation function\n",
    "    nn.Linear(64, 128),  # Hidden layer with 64 input features and 32 output features\n",
    "    nn.ReLU(), \n",
    "    nn.Linear(128,32),  # Hidden layer with 64 input features and 32 output features\n",
    "    nn.ReLU(),# Activation function\n",
    "    nn.Linear(32, 1),\n",
    "    nn.Sigmoid()# Output layer with 32 input features and 10 output features\n",
    ")\n",
    "\n",
    "# Print the model architecture\n",
    "print(model)"
   ]
  },
  {
   "cell_type": "code",
   "execution_count": 3,
   "metadata": {
    "metadata": {}
   },
   "outputs": [
    {
     "name": "stdout",
     "output_type": "stream",
     "text": [
      "\n",
      " \n",
      "** Formed Tensors and starting model training** \n",
      " \n",
      " \n"
     ]
    },
    {
     "name": "stderr",
     "output_type": "stream",
     "text": [
      "  0%|          | 0/1 [00:03<?, ?it/s]\n"
     ]
    },
    {
     "ename": "Error",
     "evalue": "You must call wandb.init() before wandb.log()",
     "output_type": "error",
     "traceback": [
      "\u001b[0;31m---------------------------------------------------------------------------\u001b[0m",
      "\u001b[0;31mError\u001b[0m                                     Traceback (most recent call last)",
      "Cell \u001b[0;32mIn[3], line 8\u001b[0m\n\u001b[1;32m      5\u001b[0m optimizer \u001b[38;5;241m=\u001b[39m torch\u001b[38;5;241m.\u001b[39moptim\u001b[38;5;241m.\u001b[39mAdam(net\u001b[38;5;241m.\u001b[39mparameters(), lr\u001b[38;5;241m=\u001b[39m\u001b[38;5;241m0.001\u001b[39m)\n\u001b[1;32m      6\u001b[0m net \u001b[38;5;241m=\u001b[39m net\u001b[38;5;241m.\u001b[39mto(device\u001b[38;5;241m=\u001b[39mtorch\u001b[38;5;241m.\u001b[39mdevice(\u001b[38;5;124m'\u001b[39m\u001b[38;5;124mcuda:3\u001b[39m\u001b[38;5;124m'\u001b[39m))\n\u001b[0;32m----> 8\u001b[0m \u001b[43mtrain_model_priv\u001b[49m\u001b[43m(\u001b[49m\u001b[43mnet\u001b[49m\u001b[43m,\u001b[49m\u001b[43mtrainloader\u001b[49m\u001b[43m,\u001b[49m\u001b[43mx_test_tensor\u001b[49m\u001b[43m,\u001b[49m\u001b[43my_test_tensor\u001b[49m\u001b[43m,\u001b[49m\u001b[43moptimizer\u001b[49m\u001b[43m,\u001b[49m\u001b[38;5;241;43m1\u001b[39;49m\u001b[43m,\u001b[49m\u001b[38;5;241;43m0.8\u001b[39;49m\u001b[43m,\u001b[49m\u001b[43mdevice\u001b[49m\u001b[38;5;241;43m=\u001b[39;49m\u001b[43m \u001b[49m\u001b[43mtorch\u001b[49m\u001b[38;5;241;43m.\u001b[39;49m\u001b[43mdevice\u001b[49m\u001b[43m(\u001b[49m\u001b[38;5;124;43m'\u001b[39;49m\u001b[38;5;124;43mcuda:3\u001b[39;49m\u001b[38;5;124;43m'\u001b[39;49m\u001b[43m)\u001b[49m\u001b[43m,\u001b[49m\u001b[43mprint_cond\u001b[49m\u001b[43m \u001b[49m\u001b[38;5;241;43m=\u001b[39;49m\u001b[43m \u001b[49m\u001b[38;5;28;43;01mTrue\u001b[39;49;00m\u001b[43m,\u001b[49m\u001b[43monly_reg_flag\u001b[49m\u001b[38;5;241;43m=\u001b[39;49m\u001b[38;5;241;43m0\u001b[39;49m\u001b[43m,\u001b[49m\u001b[43mlr_schedular\u001b[49m\u001b[43m \u001b[49m\u001b[38;5;241;43m=\u001b[39;49m\u001b[38;5;28;43;01mNone\u001b[39;49;00m\u001b[43m,\u001b[49m\u001b[43mlambda_loss\u001b[49m\u001b[38;5;241;43m=\u001b[39;49m\u001b[38;5;241;43m1\u001b[39;49m\u001b[43m)\u001b[49m\n\u001b[1;32m      9\u001b[0m outputs \u001b[38;5;241m=\u001b[39m net(x_test_tensor)\n\u001b[1;32m     10\u001b[0m \u001b[38;5;28mprint\u001b[39m(((outputs\u001b[38;5;241m>\u001b[39m\u001b[38;5;241m0.5\u001b[39m)\u001b[38;5;241m.\u001b[39msqueeze()\u001b[38;5;241m.\u001b[39mcpu() \u001b[38;5;241m==\u001b[39m y_test_tensor\u001b[38;5;241m.\u001b[39msqueeze())\u001b[38;5;241m.\u001b[39msum()\u001b[38;5;241m/\u001b[39m(\u001b[38;5;28mlen\u001b[39m(y_test_tensor)))\n",
      "File \u001b[0;32m~/SF_test/Power-Mechanism-new/Adult_income/utils.py:217\u001b[0m, in \u001b[0;36mtrain_model_priv\u001b[0;34m(net, trainloader, x_test, y_test, optimizer, epochs, h, rate, device, print_cond, only_reg_flag, lr_schedular, lambda_loss, max_steps)\u001b[0m\n\u001b[1;32m    213\u001b[0m     \u001b[38;5;28;01mcontinue\u001b[39;00m\n\u001b[1;32m    214\u001b[0m loss_reg \u001b[38;5;241m=\u001b[39m torch\u001b[38;5;241m.\u001b[39mnorm(f_der\u001b[38;5;241m/\u001b[39mf\u001b[38;5;241m.\u001b[39mview(f\u001b[38;5;241m.\u001b[39mshape[\u001b[38;5;241m0\u001b[39m],\u001b[38;5;241m1\u001b[39m)\u001b[38;5;241m+\u001b[39m net\u001b[38;5;241m.\u001b[39mloss_reg,dim\u001b[38;5;241m=\u001b[39m\u001b[38;5;241m1\u001b[39m)\u001b[38;5;241m.\u001b[39msum()\u001b[38;5;241m.\u001b[39mdetach()\u001b[38;5;241m.\u001b[39mcpu()\u001b[38;5;241m/\u001b[39m\u001b[38;5;28mlen\u001b[39m(inputs)\n\u001b[0;32m--> 217\u001b[0m \u001b[43mwandb\u001b[49m\u001b[38;5;241;43m.\u001b[39;49m\u001b[43mlog\u001b[49m\u001b[43m(\u001b[49m\u001b[43m{\u001b[49m\u001b[38;5;124;43m\"\u001b[39;49m\u001b[38;5;124;43mloss\u001b[39;49m\u001b[38;5;124;43m\"\u001b[39;49m\u001b[43m:\u001b[49m\u001b[43m \u001b[49m\u001b[43mloss\u001b[49m\u001b[38;5;241;43m.\u001b[39;49m\u001b[43mitem\u001b[49m\u001b[43m(\u001b[49m\u001b[43m)\u001b[49m\u001b[43m,\u001b[49m\u001b[38;5;124;43m\"\u001b[39;49m\u001b[38;5;124;43mloss_reg\u001b[39;49m\u001b[38;5;124;43m\"\u001b[39;49m\u001b[43m:\u001b[49m\u001b[43mloss_reg\u001b[49m\u001b[38;5;241;43m.\u001b[39;49m\u001b[43mitem\u001b[49m\u001b[43m(\u001b[49m\u001b[43m)\u001b[49m\u001b[43m}\u001b[49m\u001b[43m)\u001b[49m\n\u001b[1;32m    218\u001b[0m pbar\u001b[38;5;241m.\u001b[39mset_postfix_str(\u001b[38;5;124mf\u001b[39m\u001b[38;5;124m\"\u001b[39m\u001b[38;5;124mloss: \u001b[39m\u001b[38;5;132;01m{\u001b[39;00mloss\u001b[38;5;241m.\u001b[39mitem()\u001b[38;5;132;01m}\u001b[39;00m\u001b[38;5;124m, loss_reg: \u001b[39m\u001b[38;5;132;01m{\u001b[39;00mloss_reg\u001b[38;5;241m.\u001b[39mitem()\u001b[38;5;132;01m}\u001b[39;00m\u001b[38;5;124m,Acc: \u001b[39m\u001b[38;5;132;01m{\u001b[39;00macc\u001b[38;5;132;01m}\u001b[39;00m\u001b[38;5;124m\"\u001b[39m)\n\u001b[1;32m    220\u001b[0m \u001b[38;5;66;03m# print statistics\u001b[39;00m\n\u001b[1;32m    221\u001b[0m \u001b[38;5;66;03m# print(loss.sum().shape)\u001b[39;00m\n\u001b[1;32m    222\u001b[0m \n\u001b[1;32m    223\u001b[0m \u001b[38;5;66;03m# if i % 100 == 99:    # print every 2000 mini-batches\u001b[39;00m\n\u001b[1;32m    224\u001b[0m \u001b[38;5;66;03m# if((i+1)%rate==0):\u001b[39;00m\n",
      "File \u001b[0;32m~/miniconda3/envs/dpo/lib/python3.12/site-packages/wandb/sdk/lib/preinit.py:36\u001b[0m, in \u001b[0;36mPreInitCallable.<locals>.preinit_wrapper\u001b[0;34m(*args, **kwargs)\u001b[0m\n\u001b[1;32m     35\u001b[0m \u001b[38;5;28;01mdef\u001b[39;00m \u001b[38;5;21mpreinit_wrapper\u001b[39m(\u001b[38;5;241m*\u001b[39margs: Any, \u001b[38;5;241m*\u001b[39m\u001b[38;5;241m*\u001b[39mkwargs: Any) \u001b[38;5;241m-\u001b[39m\u001b[38;5;241m>\u001b[39m Any:\n\u001b[0;32m---> 36\u001b[0m     \u001b[38;5;28;01mraise\u001b[39;00m wandb\u001b[38;5;241m.\u001b[39mError(\u001b[38;5;124mf\u001b[39m\u001b[38;5;124m\"\u001b[39m\u001b[38;5;124mYou must call wandb.init() before \u001b[39m\u001b[38;5;132;01m{\u001b[39;00mname\u001b[38;5;132;01m}\u001b[39;00m\u001b[38;5;124m()\u001b[39m\u001b[38;5;124m\"\u001b[39m)\n",
      "\u001b[0;31mError\u001b[0m: You must call wandb.init() before wandb.log()"
     ]
    }
   ],
   "source": [
    "print(\"\\n \\n** Formed Tensors and starting model training** \\n \\n \")\n",
    "net = Net_new(1,device = torch.device('cuda:3'))\n",
    "trainloader = torch.utils.data.DataLoader(list(zip(x_train_tensor, y_train_tensor)), batch_size=512, shuffle=False)\n",
    "\n",
    "optimizer = torch.optim.Adam(net.parameters(), lr=0.001)\n",
    "net = net.to(device=torch.device('cuda:3'))\n",
    "\n",
    "train_model_priv(net,trainloader,x_test_tensor,y_test_tensor,optimizer,1,0.8,device= torch.device('cuda:3'),print_cond = True,only_reg_flag=0,lr_schedular =None,lambda_loss=1)\n",
    "outputs = net(x_test_tensor)\n",
    "print(((outputs>0.5).squeeze().cpu() == y_test_tensor.squeeze()).sum()/(len(y_test_tensor)))\n",
    "\n",
    "\n"
   ]
  },
  {
   "cell_type": "code",
   "execution_count": null,
   "metadata": {
    "metadata": {}
   },
   "outputs": [
    {
     "data": {
      "text/plain": [
       "tensor(0.2394)"
      ]
     },
     "execution_count": 5,
     "metadata": {},
     "output_type": "execute_result"
    }
   ],
   "source": [
    "y_test_tensor.sum()/len(y_test_tensor)"
   ]
  },
  {
   "cell_type": "code",
   "execution_count": null,
   "metadata": {
    "metadata": {}
   },
   "outputs": [
    {
     "name": "stdout",
     "output_type": "stream",
     "text": [
      "\n",
      " \n",
      " ** Creating embeddings ** \n",
      " \n",
      "  38900\n"
     ]
    }
   ],
   "source": [
    "print(\"\\n \\n ** Creating embeddings ** \\n \\n \",len(y_train_tensor))\n",
    "trainloader = torch.utils.data.DataLoader(list(zip(x_train_tensor, y_train_tensor)), batch_size=512, shuffle=False)\n",
    "X_emb_train, losses_train = create_model_embs2(net,trainloader,device= torch.device('cuda:3'),l=len(y_train_tensor),h=0.8)\n",
    "x_test_tensor = torch.tensor(x_test, dtype=torch.float32)\n",
    "# x_test_tensor = torch.tensor(X_test_scaled, dtype=torch.float32)\n",
    "\n",
    "y_test_tensor = torch.tensor(y_test, dtype=torch.float32)\n",
    "testloader = torch.utils.data.DataLoader(list(zip(x_test_tensor, y_test_tensor)), batch_size=512, shuffle=False)\n",
    "X_emb_test, losses_test = create_model_embs2(net,testloader,device= torch.device('cuda:3'),l=len(y_test_tensor),h=0.8)\n",
    "losses_train,indices = torch.sort(losses_train)\n",
    "\n",
    "# x_test_tensor = torch.tensor(x_test, dtype=torch.float32)\n",
    "# x_test_tensor = torch.tensor(X_test_scaled, dtype=torch.float32)\n",
    "\n",
    "# y_test_tensor = torch.tensor(y_test, dtype=torch.float32)\n",
    "\n"
   ]
  },
  {
   "cell_type": "code",
   "execution_count": null,
   "metadata": {
    "metadata": {}
   },
   "outputs": [
    {
     "name": "stdout",
     "output_type": "stream",
     "text": [
      "\n",
      " \n",
      " ** Starting final training ** \n",
      " \n",
      " \n",
      "Test Accuracy:  tensor(0.7606)\n",
      "Test Accuracy:  tensor(0.7606)\n",
      "Test Accuracy:  tensor(0.8070)\n",
      "Test Accuracy:  tensor(0.8225)\n",
      "Test Accuracy:  tensor(0.8219)\n",
      "Test Accuracy:  tensor(0.8277)\n",
      "Test Accuracy:  tensor(0.8277)\n",
      "Test Accuracy:  tensor(0.8273)\n",
      "Test Accuracy:  tensor(0.8283)\n",
      "Test Accuracy:  tensor(0.8278)\n"
     ]
    }
   ],
   "source": [
    "\n",
    "set_eps = 0.5\n",
    "ind = (losses_train < set_eps).sum()\n",
    "\n",
    "    \n",
    "\n",
    "\n",
    "X_emb_train_priv = X_emb_train[indices][:ind]\n",
    "Y_train = y_train_tensor[indices][:ind]\n",
    "\n",
    "# input_size = 68\n",
    "# model = LogisticRegression(input_size)\n",
    "# Define the model architecture\n",
    "num_epochs = 10\n",
    "model = nn.Sequential(\n",
    "    nn.Linear(68, 64),  # Input layer with 100 input features and 64 output features\n",
    "    nn.ReLU(),  # Activation function\n",
    "    nn.Linear(64, 128),  # Hidden layer with 64 input features and 32 output features\n",
    "    nn.ReLU(), \n",
    "    nn.Linear(128,32),  # Hidden layer with 64 input features and 32 output features\n",
    "    nn.ReLU(),# Activation function\n",
    "    nn.Linear(32, 1),\n",
    "    nn.Sigmoid()# Output layer with 32 input features and 10 output features\n",
    ")\n",
    "optimizer = torch.optim.Adam(model.parameters(), lr=0.001)\n",
    "trainloader_priv = torch.utils.data.DataLoader(list(zip(X_emb_train_priv, Y_train)), batch_size=512, shuffle=True)\n",
    "print(\"\\n \\n ** Starting final training ** \\n \\n \")\n",
    "train_emb(model,trainloader_priv,X_emb_test,y_test_tensor,nn.BCELoss(),optimizer,num_epochs,device=torch.device('cuda:0'),test_total_loader = None,max_steps =10000)"
   ]
  },
  {
   "cell_type": "code",
   "execution_count": null,
   "metadata": {
    "metadata": {}
   },
   "outputs": [
    {
     "name": "stdout",
     "output_type": "stream",
     "text": [
      "Test Accuracy:  tensor(0.7606)\n",
      "Test Accuracy:  tensor(0.7606)\n",
      "Test Accuracy:  tensor(0.7606)\n",
      "Test Accuracy:  tensor(0.7606)\n",
      "Test Accuracy:  tensor(0.7606)\n",
      "Test Accuracy:  tensor(0.7606)\n",
      "Test Accuracy:  tensor(0.7606)\n",
      "Test Accuracy:  tensor(0.7606)\n",
      "Test Accuracy:  tensor(0.7606)\n",
      "Test Accuracy:  tensor(0.7606)\n",
      "Test Accuracy:  tensor(0.7606)\n",
      "Test Accuracy:  tensor(0.7606)\n",
      "Test Accuracy:  tensor(0.7606)\n",
      "Test Accuracy:  tensor(0.7606)\n",
      "Test Accuracy:  tensor(0.7606)\n",
      "Test Accuracy:  tensor(0.7606)\n",
      "Test Accuracy:  tensor(0.7606)\n",
      "Test Accuracy:  tensor(0.7606)\n",
      "Test Accuracy:  tensor(0.7606)\n",
      "Test Accuracy:  tensor(0.7606)\n",
      "Test Accuracy:  tensor(0.7606)\n",
      "Test Accuracy:  tensor(0.7606)\n",
      "Test Accuracy:  tensor(0.7606)\n",
      "Test Accuracy:  tensor(0.7606)\n",
      "Test Accuracy:  tensor(0.7606)\n",
      "Test Accuracy:  tensor(0.7606)\n",
      "Test Accuracy:  tensor(0.7606)\n",
      "Test Accuracy:  tensor(0.7606)\n",
      "Test Accuracy:  tensor(0.7606)\n",
      "Test Accuracy:  tensor(0.7606)\n",
      "Test Accuracy:  tensor(0.7606)\n",
      "Test Accuracy:  tensor(0.7606)\n",
      "Test Accuracy:  tensor(0.7606)\n",
      "Test Accuracy:  tensor(0.7606)\n",
      "Test Accuracy:  tensor(0.7606)\n",
      "Test Accuracy:  tensor(0.7606)\n",
      "Test Accuracy:  tensor(0.7606)\n",
      "Test Accuracy:  tensor(0.7606)\n",
      "Test Accuracy:  tensor(0.7606)\n",
      "Test Accuracy:  tensor(0.7606)\n",
      "Test Accuracy:  tensor(0.7606)\n",
      "Test Accuracy:  tensor(0.7606)\n",
      "Test Accuracy:  tensor(0.7606)\n",
      "Test Accuracy:  tensor(0.7606)\n",
      "Test Accuracy:  tensor(0.7606)\n",
      "Test Accuracy:  tensor(0.7606)\n",
      "Test Accuracy:  tensor(0.7606)\n",
      "Test Accuracy:  tensor(0.7606)\n",
      "Test Accuracy:  tensor(0.7606)\n",
      "Test Accuracy:  tensor(0.7606)\n"
     ]
    }
   ],
   "source": [
    "input_size = 68\n",
    "num_epochs = 50\n",
    "# model = LogisticRegression(input_size)\n",
    "model = nn.Sequential(\n",
    "    nn.Linear(68, 64),  # Input layer with 100 input features and 64 output features\n",
    "    nn.ReLU(),  # Activation function\n",
    "    nn.Linear(64, 128),  # Hidden layer with 64 input features and 32 output features\n",
    "    nn.ReLU(), \n",
    "    nn.Linear(128,32),  # Hidden layer with 64 input features and 32 output features\n",
    "    nn.ReLU(),# Activation function\n",
    "    nn.Linear(32, 1),\n",
    "    nn.Sigmoid()# Output layer with 32 input features and 10 output features\n",
    ")\n",
    "from opacus import PrivacyEngine\n",
    "privacy_engine = PrivacyEngine()\n",
    "optimizer = torch.optim.Adam(model.parameters(), lr=0.001)\n",
    "model2, optimizer2, data_loader = privacy_engine.make_private_with_epsilon(\n",
    "    module=model,\n",
    "    optimizer=optimizer,\n",
    "    data_loader=trainloader,\n",
    "    target_epsilon=1,\n",
    "    target_delta =0.0001,\n",
    "    epochs = num_epochs,\n",
    "    max_grad_norm=1.0,\n",
    ")\n",
    "train_emb(model2,data_loader,x_test_tensor,y_test_tensor,nn.BCELoss(),optimizer2,num_epochs,device=torch.device('cuda:0'),max_steps =10000)"
   ]
  },
  {
   "cell_type": "code",
   "execution_count": null,
   "metadata": {
    "metadata": {}
   },
   "outputs": [
    {
     "data": {
      "text/plain": [
       "0.8252107752416205"
      ]
     },
     "execution_count": 11,
     "metadata": {},
     "output_type": "execute_result"
    }
   ],
   "source": [
    "model = RandomForestClassifier(n_estimators=200)\n",
    "\n",
    "# Train the model\n",
    "model.fit(x_train_tensor, y_train_tensor)\n",
    "\n",
    "# Make predictions\n",
    "predictions = model.predict(x_test_tensor)\n",
    "(predictions == np.array(y_test_tensor)).sum()/(len(y_test_tensor))"
   ]
  },
  {
   "cell_type": "code",
   "execution_count": null,
   "metadata": {
    "metadata": {}
   },
   "outputs": [
    {
     "data": {
      "text/plain": [
       "0.8240797861402427"
      ]
     },
     "execution_count": 13,
     "metadata": {},
     "output_type": "execute_result"
    }
   ],
   "source": [
    "model = RandomForestClassifier(n_estimators=20)\n",
    "\n",
    "# Train the model\n",
    "model.fit(X_emb_train_priv, Y_train)\n",
    "\n",
    "# Make predictions\n",
    "predictions = model.predict(X_emb_test)\n",
    "(predictions == np.array(y_test_tensor)).sum()/(len(y_test_tensor))"
   ]
  },
  {
   "cell_type": "code",
   "execution_count": null,
   "metadata": {
    "metadata": {}
   },
   "outputs": [
    {
     "name": "stdout",
     "output_type": "stream",
     "text": [
      "Accuracy: 0.8267530331071355\n"
     ]
    }
   ],
   "source": [
    "import pandas as pd\n",
    "from sklearn.model_selection import train_test_split\n",
    "from xgboost import XGBClassifier\n",
    "from sklearn.metrics import accuracy_score\n",
    "\n",
    "# Load the dataset\n",
    "# data = pd.read_csv('your_dataset.csv')\n",
    "\n",
    "# # Split the dataset into features and target variable\n",
    "# X = data.drop('income', axis=1)\n",
    "# y = data['income']\n",
    "\n",
    "# # Split the data into training and testing sets\n",
    "# X_train, X_test, y_train, y_test = train_test_split(X, y, test_size=0.2, random_state=42)\n",
    "\n",
    "# Initialize the XGBoost classifier\n",
    "model = XGBClassifier()\n",
    "\n",
    "model.fit(X_emb_train_priv, Y_train)\n",
    "\n",
    "# Make predictions\n",
    "predictions = model.predict(X_emb_test)\n",
    "\n",
    "print(\"Accuracy:\", (predictions == np.array(y_test_tensor)).sum()/(len(y_test_tensor)))"
   ]
  },
  {
   "cell_type": "code",
   "execution_count": 2,
   "metadata": {},
   "outputs": [
    {
     "data": {
      "image/png": "[encoded data removed]",
      "text/plain": [
       "<Figure size 640x480 with 1 Axes>"
      ]
     },
     "metadata": {},
     "output_type": "display_data"
    }
   ],
   "source": [
    "import os\n",
    "import torch\n",
    "model_path = 'Models/income_128_30'\n",
    "def get_folders(directory):\n",
    "    folders = []\n",
    "    for root, dirs, files in os.walk(directory):\n",
    "        for dir in dirs:\n",
    "            folders.append(dir)\n",
    "    return folders\n",
    "\n",
    "# Specify the directory path\n",
    "directory_path = './Embeddings'\n",
    "\n",
    "# Call the function to get the directory names\n",
    "directory_names = get_folders(directory_path)\n",
    "\n",
    "if(model_path[7:] in directory_names):\n",
    "    dirpth =  './Embeddings/'+model_path[7:]\n",
    "    X_emb_train = torch.load(dirpth+'/X_emb_train.pt')\n",
    "    X_emb_test = torch.load(dirpth+'/X_emb_test.pt')\n",
    "    losses_train = torch.load(dirpth+'/losses_train.pt')\n",
    "    losses_test = torch.load(dirpth+'/losses_test.pt')\n",
    "    \n",
    "import matplotlib.pyplot as plt\n",
    "\n",
    "# Assuming losses_test is a list or array containing the loss values\n",
    "\n",
    "\n",
    "# Filter the losses within the range of 0 and 2\n",
    "filtered_losses = [loss for loss in losses_train if 0 <= loss <= 2]\n",
    "\n",
    "# Plot the histogram\n",
    "plt.hist(filtered_losses, bins=230, range=(0.05, 0.3))\n",
    "plt.xlabel('Loss')\n",
    "plt.ylabel('Frequency')\n",
    "plt.title('Histogram of Losses')\n",
    "plt.show()"
   ]
  },
  {
   "cell_type": "code",
   "execution_count": null,
   "metadata": {},
   "outputs": [],
   "source": []
  }
 ],
 "metadata": {
  "kernelspec": {
   "display_name": "dpo",
   "language": "python",
   "name": "python3"
  },
  "language_info": {
   "codemirror_mode": {
    "name": "ipython",
    "version": 3
   },
   "file_extension": ".py",
   "mimetype": "text/x-python",
   "name": "python",
   "nbconvert_exporter": "python",
   "pygments_lexer": "ipython3",
   "version": "3.12.2"
  }
 },
 "nbformat": 4,
 "nbformat_minor": 2
}
