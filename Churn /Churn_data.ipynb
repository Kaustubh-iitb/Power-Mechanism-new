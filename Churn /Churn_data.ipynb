{
  "cells": [
    {
      "cell_type": "markdown",
      "metadata": {},
      "source": [
        "## Data Preprocessing"
      ]
    },
    {
      "cell_type": "code",
      "execution_count": 1,
      "metadata": {},
      "outputs": [],
      "source": [
        "# Imports\n",
        "import numpy as np\n",
        "import pandas as pd\n",
        "# import dcMinMaxFunctions as dc\n",
        "# import dcor\n",
        "from scipy.misc import derivative\n",
        "from sklearn.model_selection import train_test_split\n",
        "import math\n",
        "import torch\n",
        "from scipy import stats\n",
        "import wandb"
      ]
    },
    {
      "cell_type": "code",
      "execution_count": 2,
      "metadata": {},
      "outputs": [],
      "source": [
        "df=pd.read_csv(\"data/Churn_Modelling.csv\")"
      ]
    },
    {
      "cell_type": "code",
      "execution_count": 3,
      "metadata": {},
      "outputs": [
        {
          "data": {
            "text/html": [
              "<div>\n",
              "<style scoped>\n",
              "    .dataframe tbody tr th:only-of-type {\n",
              "        vertical-align: middle;\n",
              "    }\n",
              "\n",
              "    .dataframe tbody tr th {\n",
              "        vertical-align: top;\n",
              "    }\n",
              "\n",
              "    .dataframe thead th {\n",
              "        text-align: right;\n",
              "    }\n",
              "</style>\n",
              "<table border=\"1\" class=\"dataframe\">\n",
              "  <thead>\n",
              "    <tr style=\"text-align: right;\">\n",
              "      <th></th>\n",
              "      <th>RowNumber</th>\n",
              "      <th>CustomerId</th>\n",
              "      <th>Surname</th>\n",
              "      <th>CreditScore</th>\n",
              "      <th>Geography</th>\n",
              "      <th>Gender</th>\n",
              "      <th>Age</th>\n",
              "      <th>Tenure</th>\n",
              "      <th>Balance</th>\n",
              "      <th>NumOfProducts</th>\n",
              "      <th>HasCrCard</th>\n",
              "      <th>IsActiveMember</th>\n",
              "      <th>EstimatedSalary</th>\n",
              "      <th>Exited</th>\n",
              "    </tr>\n",
              "  </thead>\n",
              "  <tbody>\n",
              "    <tr>\n",
              "      <th>0</th>\n",
              "      <td>1</td>\n",
              "      <td>15634602</td>\n",
              "      <td>Hargrave</td>\n",
              "      <td>619</td>\n",
              "      <td>France</td>\n",
              "      <td>Female</td>\n",
              "      <td>42</td>\n",
              "      <td>2</td>\n",
              "      <td>0.00</td>\n",
              "      <td>1</td>\n",
              "      <td>1</td>\n",
              "      <td>1</td>\n",
              "      <td>101348.88</td>\n",
              "      <td>1</td>\n",
              "    </tr>\n",
              "    <tr>\n",
              "      <th>1</th>\n",
              "      <td>2</td>\n",
              "      <td>15647311</td>\n",
              "      <td>Hill</td>\n",
              "      <td>608</td>\n",
              "      <td>Spain</td>\n",
              "      <td>Female</td>\n",
              "      <td>41</td>\n",
              "      <td>1</td>\n",
              "      <td>83807.86</td>\n",
              "      <td>1</td>\n",
              "      <td>0</td>\n",
              "      <td>1</td>\n",
              "      <td>112542.58</td>\n",
              "      <td>0</td>\n",
              "    </tr>\n",
              "    <tr>\n",
              "      <th>2</th>\n",
              "      <td>3</td>\n",
              "      <td>15619304</td>\n",
              "      <td>Onio</td>\n",
              "      <td>502</td>\n",
              "      <td>France</td>\n",
              "      <td>Female</td>\n",
              "      <td>42</td>\n",
              "      <td>8</td>\n",
              "      <td>159660.80</td>\n",
              "      <td>3</td>\n",
              "      <td>1</td>\n",
              "      <td>0</td>\n",
              "      <td>113931.57</td>\n",
              "      <td>1</td>\n",
              "    </tr>\n",
              "    <tr>\n",
              "      <th>3</th>\n",
              "      <td>4</td>\n",
              "      <td>15701354</td>\n",
              "      <td>Boni</td>\n",
              "      <td>699</td>\n",
              "      <td>France</td>\n",
              "      <td>Female</td>\n",
              "      <td>39</td>\n",
              "      <td>1</td>\n",
              "      <td>0.00</td>\n",
              "      <td>2</td>\n",
              "      <td>0</td>\n",
              "      <td>0</td>\n",
              "      <td>93826.63</td>\n",
              "      <td>0</td>\n",
              "    </tr>\n",
              "    <tr>\n",
              "      <th>4</th>\n",
              "      <td>5</td>\n",
              "      <td>15737888</td>\n",
              "      <td>Mitchell</td>\n",
              "      <td>850</td>\n",
              "      <td>Spain</td>\n",
              "      <td>Female</td>\n",
              "      <td>43</td>\n",
              "      <td>2</td>\n",
              "      <td>125510.82</td>\n",
              "      <td>1</td>\n",
              "      <td>1</td>\n",
              "      <td>1</td>\n",
              "      <td>79084.10</td>\n",
              "      <td>0</td>\n",
              "    </tr>\n",
              "    <tr>\n",
              "      <th>...</th>\n",
              "      <td>...</td>\n",
              "      <td>...</td>\n",
              "      <td>...</td>\n",
              "      <td>...</td>\n",
              "      <td>...</td>\n",
              "      <td>...</td>\n",
              "      <td>...</td>\n",
              "      <td>...</td>\n",
              "      <td>...</td>\n",
              "      <td>...</td>\n",
              "      <td>...</td>\n",
              "      <td>...</td>\n",
              "      <td>...</td>\n",
              "      <td>...</td>\n",
              "    </tr>\n",
              "    <tr>\n",
              "      <th>9995</th>\n",
              "      <td>9996</td>\n",
              "      <td>15606229</td>\n",
              "      <td>Obijiaku</td>\n",
              "      <td>771</td>\n",
              "      <td>France</td>\n",
              "      <td>Male</td>\n",
              "      <td>39</td>\n",
              "      <td>5</td>\n",
              "      <td>0.00</td>\n",
              "      <td>2</td>\n",
              "      <td>1</td>\n",
              "      <td>0</td>\n",
              "      <td>96270.64</td>\n",
              "      <td>0</td>\n",
              "    </tr>\n",
              "    <tr>\n",
              "      <th>9996</th>\n",
              "      <td>9997</td>\n",
              "      <td>15569892</td>\n",
              "      <td>Johnstone</td>\n",
              "      <td>516</td>\n",
              "      <td>France</td>\n",
              "      <td>Male</td>\n",
              "      <td>35</td>\n",
              "      <td>10</td>\n",
              "      <td>57369.61</td>\n",
              "      <td>1</td>\n",
              "      <td>1</td>\n",
              "      <td>1</td>\n",
              "      <td>101699.77</td>\n",
              "      <td>0</td>\n",
              "    </tr>\n",
              "    <tr>\n",
              "      <th>9997</th>\n",
              "      <td>9998</td>\n",
              "      <td>15584532</td>\n",
              "      <td>Liu</td>\n",
              "      <td>709</td>\n",
              "      <td>France</td>\n",
              "      <td>Female</td>\n",
              "      <td>36</td>\n",
              "      <td>7</td>\n",
              "      <td>0.00</td>\n",
              "      <td>1</td>\n",
              "      <td>0</td>\n",
              "      <td>1</td>\n",
              "      <td>42085.58</td>\n",
              "      <td>1</td>\n",
              "    </tr>\n",
              "    <tr>\n",
              "      <th>9998</th>\n",
              "      <td>9999</td>\n",
              "      <td>15682355</td>\n",
              "      <td>Sabbatini</td>\n",
              "      <td>772</td>\n",
              "      <td>Germany</td>\n",
              "      <td>Male</td>\n",
              "      <td>42</td>\n",
              "      <td>3</td>\n",
              "      <td>75075.31</td>\n",
              "      <td>2</td>\n",
              "      <td>1</td>\n",
              "      <td>0</td>\n",
              "      <td>92888.52</td>\n",
              "      <td>1</td>\n",
              "    </tr>\n",
              "    <tr>\n",
              "      <th>9999</th>\n",
              "      <td>10000</td>\n",
              "      <td>15628319</td>\n",
              "      <td>Walker</td>\n",
              "      <td>792</td>\n",
              "      <td>France</td>\n",
              "      <td>Female</td>\n",
              "      <td>28</td>\n",
              "      <td>4</td>\n",
              "      <td>130142.79</td>\n",
              "      <td>1</td>\n",
              "      <td>1</td>\n",
              "      <td>0</td>\n",
              "      <td>38190.78</td>\n",
              "      <td>0</td>\n",
              "    </tr>\n",
              "  </tbody>\n",
              "</table>\n",
              "<p>10000 rows × 14 columns</p>\n",
              "</div>"
            ],
            "text/plain": [
              "      RowNumber  CustomerId    Surname  CreditScore Geography  Gender  Age  \\\n",
              "0             1    15634602   Hargrave          619    France  Female   42   \n",
              "1             2    15647311       Hill          608     Spain  Female   41   \n",
              "2             3    15619304       Onio          502    France  Female   42   \n",
              "3             4    15701354       Boni          699    France  Female   39   \n",
              "4             5    15737888   Mitchell          850     Spain  Female   43   \n",
              "...         ...         ...        ...          ...       ...     ...  ...   \n",
              "9995       9996    15606229   Obijiaku          771    France    Male   39   \n",
              "9996       9997    15569892  Johnstone          516    France    Male   35   \n",
              "9997       9998    15584532        Liu          709    France  Female   36   \n",
              "9998       9999    15682355  Sabbatini          772   Germany    Male   42   \n",
              "9999      10000    15628319     Walker          792    France  Female   28   \n",
              "\n",
              "      Tenure    Balance  NumOfProducts  HasCrCard  IsActiveMember  \\\n",
              "0          2       0.00              1          1               1   \n",
              "1          1   83807.86              1          0               1   \n",
              "2          8  159660.80              3          1               0   \n",
              "3          1       0.00              2          0               0   \n",
              "4          2  125510.82              1          1               1   \n",
              "...      ...        ...            ...        ...             ...   \n",
              "9995       5       0.00              2          1               0   \n",
              "9996      10   57369.61              1          1               1   \n",
              "9997       7       0.00              1          0               1   \n",
              "9998       3   75075.31              2          1               0   \n",
              "9999       4  130142.79              1          1               0   \n",
              "\n",
              "      EstimatedSalary  Exited  \n",
              "0           101348.88       1  \n",
              "1           112542.58       0  \n",
              "2           113931.57       1  \n",
              "3            93826.63       0  \n",
              "4            79084.10       0  \n",
              "...               ...     ...  \n",
              "9995         96270.64       0  \n",
              "9996        101699.77       0  \n",
              "9997         42085.58       1  \n",
              "9998         92888.52       1  \n",
              "9999         38190.78       0  \n",
              "\n",
              "[10000 rows x 14 columns]"
            ]
          },
          "execution_count": 3,
          "metadata": {},
          "output_type": "execute_result"
        }
      ],
      "source": [
        "df"
      ]
    },
    {
      "cell_type": "code",
      "execution_count": 5,
      "metadata": {},
      "outputs": [],
      "source": [
        "n=10000\n",
        "d=12\n",
        "h = n**(-1./(d+4))\n"
      ]
    },
    {
      "cell_type": "code",
      "execution_count": 6,
      "metadata": {
        "id": "tHXngvYhO3MX"
      },
      "outputs": [],
      "source": [
        "df=pd.read_csv(\"data/Churn_Modelling.csv\")\n",
        "# df=df.drop(['duration', 'pdays'],axis=1) # duration gives away the answer, and pdays has too much missing info\n",
        "\n",
        "X = df.loc[:, df.columns != 'Exited'].replace(dict(yes=True, no=False))\n",
        "Y = df.loc[:, ['Exited']].replace(dict(yes=True, no=False))"
      ]
    },
    {
      "cell_type": "code",
      "execution_count": 7,
      "metadata": {},
      "outputs": [],
      "source": [
        "categorical_columns = ['Geography', 'Gender', 'HasCrCard', 'IsActiveMember']\n",
        "numerical_columns = ['CreditScore', 'Age', 'Tenure', 'Balance', 'NumOfProducts', 'EstimatedSalary']\n",
        "outputs = ['Exited']"
      ]
    },
    {
      "cell_type": "code",
      "execution_count": 8,
      "metadata": {},
      "outputs": [],
      "source": [
        "for category in categorical_columns:\n",
        "    df[category] = df[category].astype('category')"
      ]
    },
    {
      "cell_type": "code",
      "execution_count": 9,
      "metadata": {},
      "outputs": [],
      "source": [
        "def OHE(x):\n",
        "    dim = np.max(x)\n",
        "    y = np.zeros((len(x),dim+1))\n",
        "    for i in range(len(x)):\n",
        "        y[i][x[i]] = 1\n",
        "    return(y)"
      ]
    },
    {
      "cell_type": "code",
      "execution_count": 10,
      "metadata": {},
      "outputs": [],
      "source": [
        "geo = OHE(df['Geography'].cat.codes.values)\n",
        "gen =  np.asarray(df['Gender'].cat.codes.values)\n",
        "hcc =  np.asarray(df['HasCrCard'].cat.codes.values)\n",
        "iam =  np.asarray(df['IsActiveMember'].cat.codes.values)\n",
        "\n",
        "categorical_data = np.stack(( gen, hcc, iam), axis=1)\n",
        "# categorical_data = torch.tensor(categorical_data, dtype=torch.int64)\n",
        "numerical_data = np.stack([df[col].values for col in numerical_columns], 1)\n",
        "# numerical_data = torch.tensor(numerical_data, dtype=torch.float)\n",
        "X = np.concatenate((numerical_data, categorical_data,geo), axis=1)\n",
        "Y = df[outputs].values\n",
        "# outputs = torch.tensor(df[outputs].values).flatten()"
      ]
    },
    {
      "cell_type": "code",
      "execution_count": 11,
      "metadata": {},
      "outputs": [],
      "source": [
        "def normalize(x):\n",
        "    x_normed = x / x.max(0, keepdim=True)[0]\n",
        "    return x_normed\n",
        "\n"
      ]
    },
    {
      "cell_type": "code",
      "execution_count": 12,
      "metadata": {},
      "outputs": [],
      "source": [
        "X = torch.Tensor(X)\n",
        "Y = torch.Tensor(Y)\n",
        "X = normalize(X)"
      ]
    },
    {
      "cell_type": "code",
      "execution_count": 13,
      "metadata": {
        "id": "RSikHVAlO3MY"
      },
      "outputs": [],
      "source": [
        "X_train, X_test, Y_train, Y_test = train_test_split(X, Y, test_size=0.2)"
      ]
    },
    {
      "cell_type": "markdown",
      "metadata": {},
      "source": [
        "## Estimating Data Densities"
      ]
    },
    {
      "cell_type": "markdown",
      "metadata": {},
      "source": [
        "#### Gaussian Kernel Density Estimation & Derivative"
      ]
    },
    {
      "cell_type": "code",
      "execution_count": 21,
      "metadata": {},
      "outputs": [],
      "source": [
        "def gau_ker(u):\n",
        "    return torch.pow(2*torch.tensor(torch.pi),u.shape[1]/(-2))*torch.exp(torch.bmm(u.view(u.shape[0], 1, u.shape[1]), u.view(u.shape[0],  u.shape[1],1))/(-2))\n",
        "\n",
        "\n",
        "def py_kde(x,X_t,h,device=\"cpu\"):\n",
        "    norm = X_t.shape[0]*(h**x.shape[1])\n",
        "    prob = torch.zeros(x.shape[0]).to(device)\n",
        "    for i in range(len(X_t)):\n",
        "        prob+= (torch.squeeze(gau_ker((x - X_t[i])/h))/norm).to(device)\n",
        "    return(prob)\n",
        "\n",
        "\n",
        "def py_kde_der(p_x,x,device=\"cpu\"):\n",
        "    # x.requires_grad = True\n",
        "    # p_x = py_kde(x,X_t,h)\n",
        "    return (torch.autograd.grad(p_x,x,torch.ones_like(p_x),allow_unused=True,create_graph=True)[0]).to(device)\n",
        "\n",
        "\n",
        "def gau_ker_der(X,h):\n",
        "    N= X.shape[0]\n",
        "    d = X.shape[1]\n",
        "    grad = torch.zeros(X.shape)\n",
        "    for n in range(N):\n",
        "        for i in range(d):\n",
        "            for j in range(N):\n",
        "                grad[n][i]+= torch.exp(-1*torch.dot((X[n]-X[j]),(X[n]-X[j]))/(2*h*h))*(X[n][i] -X[j][i]) /(N*(h**(d+2))*((2*math.pi)**(d/2)))\n",
        "\n",
        "    return grad"
      ]
    },
    {
      "cell_type": "markdown",
      "metadata": {},
      "source": [
        "#### Confidence Intervals"
      ]
    },
    {
      "cell_type": "code",
      "execution_count": 22,
      "metadata": {},
      "outputs": [],
      "source": [
        "\n",
        "def CI_KDE(p_x,n,h,d,alpha):\n",
        "    return( stats.norm.ppf(1-alpha/2)*torch.sqrt(p_x/((2**d)*math.sqrt(torch.pi**d)*n*h**(d))) )\n",
        "\n",
        "def CI_KDE_der(p_x_der,p_x,n,h,d,alpha):\n",
        "    return( p_x_der*stats.norm.ppf(1-alpha/2)*torch.sqrt(1/(p_x.unsqueeze(dim=1)*(2**d)*math.sqrt(torch.pi**d)*n*h**(d))) )"
      ]
    },
    {
      "cell_type": "markdown",
      "metadata": {},
      "source": [
        "#### Example on Data"
      ]
    },
    {
      "cell_type": "code",
      "execution_count": 23,
      "metadata": {},
      "outputs": [],
      "source": [
        "device = torch.device(\"cpu\")\n",
        "x = X[0:100].detach().to(device)\n",
        "x.requires_grad = True\n",
        "f = py_kde(x,x,h)\n",
        "f_der = py_kde_der(f,x)"
      ]
    },
    {
      "cell_type": "code",
      "execution_count": 24,
      "metadata": {},
      "outputs": [],
      "source": [
        "n = X.shape[0]\n",
        "d = X.shape[1]\n",
        "alpha =0.01"
      ]
    },
    {
      "cell_type": "code",
      "execution_count": 18,
      "metadata": {},
      "outputs": [],
      "source": [
        "ci = CI_KDE(f,n,h,d,alpha)\n",
        "ci_der = CI_KDE_der(f_der,f,n,h,d,alpha)"
      ]
    },
    {
      "cell_type": "code",
      "execution_count": 19,
      "metadata": {},
      "outputs": [
        {
          "data": {
            "text/plain": [
              "tensor([0.0127, 0.0176, 0.0145, 0.0136, 0.0152, 0.0165, 0.0130, 0.0179, 0.0147,\n",
              "        0.0127, 0.0147, 0.0157, 0.0137, 0.0141, 0.0124, 0.0158, 0.0171, 0.0144,\n",
              "        0.0165, 0.0130, 0.0124, 0.0151, 0.0147, 0.0157, 0.0136, 0.0142, 0.0153,\n",
              "        0.0153, 0.0126, 0.0139, 0.0157, 0.0144, 0.0152, 0.0132, 0.0134, 0.0148,\n",
              "        0.0149, 0.0136, 0.0123, 0.0164, 0.0155, 0.0160, 0.0136, 0.0155, 0.0153,\n",
              "        0.0122, 0.0133, 0.0131, 0.0157, 0.0168, 0.0189, 0.0141, 0.0131, 0.0154,\n",
              "        0.0161, 0.0129, 0.0137, 0.0173, 0.0176, 0.0116, 0.0142, 0.0197, 0.0182,\n",
              "        0.0165, 0.0144, 0.0135, 0.0160, 0.0161, 0.0177, 0.0135, 0.0195, 0.0143,\n",
              "        0.0195, 0.0126, 0.0149, 0.0153, 0.0120, 0.0135, 0.0150, 0.0174, 0.0140,\n",
              "        0.0134, 0.0144, 0.0129, 0.0131, 0.0145, 0.0164, 0.0145, 0.0125, 0.0130,\n",
              "        0.0144, 0.0142, 0.0132, 0.0126, 0.0150, 0.0161, 0.0146, 0.0152, 0.0171,\n",
              "        0.0163], device='cuda:0', grad_fn=<DivBackward0>)"
            ]
          },
          "execution_count": 19,
          "metadata": {},
          "output_type": "execute_result"
        }
      ],
      "source": [
        "ci/f"
      ]
    },
    {
      "cell_type": "code",
      "execution_count": 20,
      "metadata": {},
      "outputs": [
        {
          "data": {
            "text/plain": [
              "tensor([[0.0127, 0.0127, 0.0127,  ..., 0.0127, 0.0127, 0.0127],\n",
              "        [0.0176, 0.0176, 0.0176,  ..., 0.0176, 0.0176, 0.0176],\n",
              "        [0.0145, 0.0145, 0.0145,  ..., 0.0145, 0.0145, 0.0145],\n",
              "        ...,\n",
              "        [0.0152, 0.0152, 0.0152,  ..., 0.0152, 0.0152, 0.0152],\n",
              "        [0.0171, 0.0171, 0.0171,  ..., 0.0171, 0.0171, 0.0171],\n",
              "        [0.0163, 0.0163, 0.0163,  ..., 0.0163, 0.0163, 0.0163]],\n",
              "       device='cuda:0', grad_fn=<DivBackward0>)"
            ]
          },
          "execution_count": 20,
          "metadata": {},
          "output_type": "execute_result"
        }
      ],
      "source": [
        "ci_der/f_der"
      ]
    },
    {
      "cell_type": "markdown",
      "metadata": {},
      "source": [
        "## Training the model"
      ]
    },
    {
      "cell_type": "code",
      "execution_count": 27,
      "metadata": {},
      "outputs": [],
      "source": [
        "import torch\n",
        "import torch.nn as nn\n",
        "import torch.nn.functional as F\n",
        "class Net(nn.Module):\n",
        "    def __init__(self,p):\n",
        "        super(Net, self ).__init__()\n",
        "        \n",
        "        self.loss_reg = 0\n",
        "        self.p =p \n",
        "        self.x = 0\n",
        "        self.y = 0\n",
        "        self.H_net1 = nn.Sequential(\n",
        "            nn.Linear(12, 48),\n",
        "            nn.Sigmoid(),\n",
        "            nn.Linear(48, 24),\n",
        "            nn.Sigmoid(),\n",
        "            nn.Linear(24, 144).cuda()\n",
        "\n",
        "        )\n",
        "        self.X_net = nn.Sequential(\n",
        "            nn.Linear(12, 48),\n",
        "            nn.ReLU(),\n",
        "            nn.Linear(48, 48),\n",
        "            nn.ReLU(),\n",
        "            nn.Linear(48, 1),\n",
        "            nn.Sigmoid()\n",
        "\n",
        "        )\n",
        "        \n",
        "    def forward(self, x):\n",
        "        def H_mul(z):\n",
        "            H12 = self.H_net1(z)\n",
        "            H12= H12.reshape(z.shape[0],d,d)\n",
        "            x12 = torch.matmul(z,H12)\n",
        "            return(x12)\n",
        "    \n",
        "        \n",
        "        def batch_jacobian(func, z, create_graph=False):\n",
        "            # x in shape (Batch, Length)\n",
        "            def _func_sum(z):\n",
        "                return func(z).sum(dim=0)\n",
        "            return torch.squeeze(torch.autograd.functional.jacobian(_func_sum, z, create_graph=create_graph)).permute(1,0,2)\n",
        "        \n",
        "        x.requires_grad =True\n",
        "        p = self.p\n",
        "        self.x = x\n",
        "        d = x.shape[1]\n",
        "        bs = x.shape[0]\n",
        "        x= torch.unsqueeze(x,1)\n",
        "        z = x.cuda()\n",
        "        loss_reg = torch.zeros(bs,d).cuda()\n",
        "        for i in range(p):\n",
        "            H = self.H_net1(z).cuda()\n",
        "            H = H.reshape(bs,d,d)\n",
        "            z = torch.matmul(z,H).cuda()\n",
        "            J = batch_jacobian(H_mul, z, create_graph=True)\n",
        "            J_int =-torch.log(torch.abs(torch.det(J)))\n",
        "            loss_reg = loss_reg + torch.squeeze(torch.autograd.grad(J_int, x,torch.ones_like(J_int),allow_unused=True,create_graph= True)[0]).cuda()\n",
        "        self.loss_reg = loss_reg\n",
        "        self.y = z\n",
        "        y = self.X_net(z)\n",
        "        return y"
      ]
    },
    {
      "cell_type": "code",
      "execution_count": 28,
      "metadata": {},
      "outputs": [
        {
          "data": {
            "text/plain": [
              "tensor([[[0.5141]],\n",
              "\n",
              "        [[0.5098]],\n",
              "\n",
              "        [[0.5048]]], device='cuda:0', grad_fn=<SigmoidBackward0>)"
            ]
          },
          "execution_count": 28,
          "metadata": {},
          "output_type": "execute_result"
        }
      ],
      "source": [
        "net = Net(5).cuda()\n",
        "net(X_train[0:3].cuda())"
      ]
    },
    {
      "cell_type": "code",
      "execution_count": 33,
      "metadata": {},
      "outputs": [
        {
          "data": {
            "text/plain": [
              "tensor([[ 6.9095e-04,  4.9341e-01, -1.6925e+00, -6.9037e-01, -3.9101e-01,\n",
              "          7.4632e-02, -1.0352e+00,  7.3446e-01,  1.3224e+00,  6.9073e-01,\n",
              "         -1.8250e-01, -1.0579e-01],\n",
              "        [-8.4459e-02,  3.8064e-01, -1.8119e+00,  1.5441e-01, -2.2724e-01,\n",
              "          3.8045e-01, -1.2734e+00, -1.3989e+00,  8.0199e-01, -2.6416e-01,\n",
              "         -1.8800e-01,  8.5170e-01],\n",
              "        [-4.7505e-01,  5.3439e-01,  6.8088e-01,  1.9595e+00,  1.3813e+00,\n",
              "          6.8535e-01, -7.1692e-01,  1.1159e+00, -6.7239e-01,  6.5306e-01,\n",
              "         -2.0656e-01,  1.4894e-02]], device='cuda:0', grad_fn=<SubBackward0>)"
            ]
          },
          "execution_count": 33,
          "metadata": {},
          "output_type": "execute_result"
        }
      ],
      "source": [
        "net.loss_reg - f_der[0:3]/f[0:3].view(f[0:3].shape[0],1)"
      ]
    },
    {
      "cell_type": "code",
      "execution_count": 41,
      "metadata": {
        "id": "cCPV_zl0O3Mc"
      },
      "outputs": [],
      "source": [
        "import torch.optim as optim\n",
        "\n",
        "criterion = nn.BCELoss(reduction= 'none')\n",
        "def my_loss(y_pred,y_train,reg_loss):\n",
        "    loss = criterion(y_pred,y_train) +reg_loss\n",
        "    return loss\n",
        "# optimizer = optim.SGD(net.parameters(), lr=0.001, momentum=0.9)\n",
        "torch.autograd.set_detect_anomaly(False)\n",
        "net_5 = Net(5)\n",
        "import torch.optim.lr_scheduler as lr_scheduler\n",
        " \n"
      ]
    },
    {
      "cell_type": "code",
      "execution_count": 42,
      "metadata": {},
      "outputs": [
        {
          "name": "stdout",
          "output_type": "stream",
          "text": [
            "Epoch number: 0   Iteration number: 9500  LR : 0.0003  Loss: tensor(3.6986, device='cuda:0', grad_fn=<AddBackward0>) Reg Loss: tensor(2.9626, device='cuda:0', grad_fn=<AddBackward0>)\n",
            "Epoch number: 1   Iteration number: 9500  LR : 0.0003  Loss: tensor(3.6042, device='cuda:0', grad_fn=<AddBackward0>) Reg Loss: tensor(2.9090, device='cuda:0', grad_fn=<AddBackward0>)\n",
            "Epoch number: 2   Iteration number: 9500  LR : 0.0003  Loss: tensor(3.5589, device='cuda:0', grad_fn=<AddBackward0>) Reg Loss: tensor(2.9030, device='cuda:0', grad_fn=<AddBackward0>)\n",
            "Epoch number: 3   Iteration number: 9500  LR : 0.0003  Loss: tensor(3.5036, device='cuda:0', grad_fn=<AddBackward0>) Reg Loss: tensor(2.8925, device='cuda:0', grad_fn=<AddBackward0>)\n",
            "Epoch number: 4   Iteration number: 9500  LR : 0.0003  Loss: tensor(3.4212, device='cuda:0', grad_fn=<AddBackward0>) Reg Loss: tensor(2.8622, device='cuda:0', grad_fn=<AddBackward0>)\n",
            "Epoch number: 5   Iteration number: 9500  LR : 0.0003  Loss: tensor(3.3082, device='cuda:0', grad_fn=<AddBackward0>) Reg Loss: tensor(2.7929, device='cuda:0', grad_fn=<AddBackward0>)\n",
            "Epoch number: 6   Iteration number: 9500  LR : 0.0003  Loss: tensor(3.2958, device='cuda:0', grad_fn=<AddBackward0>) Reg Loss: tensor(2.7971, device='cuda:0', grad_fn=<AddBackward0>)\n",
            "Epoch number: 7   Iteration number: 9500  LR : 0.0003  Loss: tensor(3.3292, device='cuda:0', grad_fn=<AddBackward0>) Reg Loss: tensor(2.8331, device='cuda:0', grad_fn=<AddBackward0>)\n",
            "Epoch number: 8   Iteration number: 9500  LR : 0.0003  Loss: tensor(3.2444, device='cuda:0', grad_fn=<AddBackward0>) Reg Loss: tensor(2.7504, device='cuda:0', grad_fn=<AddBackward0>)\n",
            "Epoch number: 9   Iteration number: 9500  LR : 0.0003  Loss: tensor(3.1622, device='cuda:0', grad_fn=<AddBackward0>) Reg Loss: tensor(2.6699, device='cuda:0', grad_fn=<AddBackward0>)\n",
            "Epoch number: 10   Iteration number: 9500  LR : 0.0003  Loss: tensor(3.2929, device='cuda:0', grad_fn=<AddBackward0>) Reg Loss: tensor(2.8023, device='cuda:0', grad_fn=<AddBackward0>)\n",
            "Epoch number: 11   Iteration number: 9500  LR : 0.0003  Loss: tensor(3.1209, device='cuda:0', grad_fn=<AddBackward0>) Reg Loss: tensor(2.6329, device='cuda:0', grad_fn=<AddBackward0>)\n",
            "Epoch number: 12   Iteration number: 9500  LR : 0.0003  Loss: tensor(3.0645, device='cuda:0', grad_fn=<AddBackward0>) Reg Loss: tensor(2.5777, device='cuda:0', grad_fn=<AddBackward0>)\n",
            "Epoch number: 13   Iteration number: 9500  LR : 0.0003  Loss: tensor(2.9560, device='cuda:0', grad_fn=<AddBackward0>) Reg Loss: tensor(2.4697, device='cuda:0', grad_fn=<AddBackward0>)\n",
            "Epoch number: 14   Iteration number: 9500  LR : 0.0003  Loss: tensor(3.1102, device='cuda:0', grad_fn=<AddBackward0>) Reg Loss: tensor(2.6240, device='cuda:0', grad_fn=<AddBackward0>)\n",
            "Epoch number: 15   Iteration number: 9500  LR : 0.0003  Loss: tensor(2.9668, device='cuda:0', grad_fn=<AddBackward0>) Reg Loss: tensor(2.4814, device='cuda:0', grad_fn=<AddBackward0>)\n",
            "Epoch number: 16   Iteration number: 9500  LR : 0.0003  Loss: tensor(3.0194, device='cuda:0', grad_fn=<AddBackward0>) Reg Loss: tensor(2.5341, device='cuda:0', grad_fn=<AddBackward0>)\n",
            "Epoch number: 17   Iteration number: 9500  LR : 0.0003  Loss: tensor(3.1752, device='cuda:0', grad_fn=<AddBackward0>) Reg Loss: tensor(2.6909, device='cuda:0', grad_fn=<AddBackward0>)\n",
            "Epoch number: 18   Iteration number: 9500  LR : 0.0003  Loss: tensor(2.9189, device='cuda:0', grad_fn=<AddBackward0>) Reg Loss: tensor(2.4352, device='cuda:0', grad_fn=<AddBackward0>)\n",
            "Epoch number: 19   Iteration number: 9500  LR : 0.0003  Loss: tensor(3.3034, device='cuda:0', grad_fn=<AddBackward0>) Reg Loss: tensor(2.8209, device='cuda:0', grad_fn=<AddBackward0>)\n",
            "Epoch number: 20   Iteration number: 9500  LR : 0.0003  Loss: tensor(3.2897, device='cuda:0', grad_fn=<AddBackward0>) Reg Loss: tensor(2.8080, device='cuda:0', grad_fn=<AddBackward0>)\n",
            "Epoch number: 21   Iteration number: 9500  LR : 0.0003  Loss: tensor(3.2643, device='cuda:0', grad_fn=<AddBackward0>) Reg Loss: tensor(2.7834, device='cuda:0', grad_fn=<AddBackward0>)\n",
            "Epoch number: 22   Iteration number: 9500  LR : 0.0003  Loss: tensor(3.2309, device='cuda:0', grad_fn=<AddBackward0>) Reg Loss: tensor(2.7507, device='cuda:0', grad_fn=<AddBackward0>)\n",
            "Epoch number: 23   Iteration number: 9500  LR : 0.0003  Loss: tensor(3.1781, device='cuda:0', grad_fn=<AddBackward0>) Reg Loss: tensor(2.6987, device='cuda:0', grad_fn=<AddBackward0>)\n",
            "Epoch number: 24   Iteration number: 9500  LR : 0.0003  Loss: tensor(3.0856, device='cuda:0', grad_fn=<AddBackward0>) Reg Loss: tensor(2.6068, device='cuda:0', grad_fn=<AddBackward0>)\n",
            "Epoch number: 25   Iteration number: 9500  LR : 0.0003  Loss: tensor(2.9675, device='cuda:0', grad_fn=<AddBackward0>) Reg Loss: tensor(2.4892, device='cuda:0', grad_fn=<AddBackward0>)\n",
            "Epoch number: 26   Iteration number: 9500  LR : 0.0003  Loss: tensor(2.9097, device='cuda:0', grad_fn=<AddBackward0>) Reg Loss: tensor(2.4317, device='cuda:0', grad_fn=<AddBackward0>)\n",
            "Epoch number: 27   Iteration number: 9500  LR : 0.0003  Loss: tensor(2.8736, device='cuda:0', grad_fn=<AddBackward0>) Reg Loss: tensor(2.3962, device='cuda:0', grad_fn=<AddBackward0>)\n",
            "Epoch number: 28   Iteration number: 9500  LR : 0.0003  Loss: tensor(2.8358, device='cuda:0', grad_fn=<AddBackward0>) Reg Loss: tensor(2.3590, device='cuda:0', grad_fn=<AddBackward0>)\n",
            "Epoch number: 29   Iteration number: 9500  LR : 0.0003  Loss: tensor(2.7974, device='cuda:0', grad_fn=<AddBackward0>) Reg Loss: tensor(2.3210, device='cuda:0', grad_fn=<AddBackward0>)\n"
          ]
        }
      ],
      "source": [
        "net_5= net_5.cuda()\n",
        "data=X\n",
        "batch_size = 1\n",
        "epochs = 30\n",
        "Y = Y.cuda()\n",
        "opt1 = torch.optim.Adam(net_5.parameters(),lr=0.0003)\n",
        "# scheduler = lr_scheduler.LinearLR(opt1, start_factor=1.0, end_factor=0.1, total_iters=10)\n",
        "net_5.train()\n",
        "bs = 500\n",
        "for epoch in range(epochs):\n",
        "    losses = 0\n",
        "    losses_reg = 0\n",
        "    for ct in range(0,len(X),bs):\n",
        "        x = data[ct:bs+ct].detach().cuda()\n",
        "\n",
        "        opt1.zero_grad()\n",
        "        x_hat = net_5(x)\n",
        "        # f = py_kde(x,x,0.65)\n",
        "        f_x = py_kde(x,x,0.65)\n",
        "        f_x_der = py_kde_der(f_x,x)\n",
        "        loss = criterion(torch.squeeze(x_hat[0:,0:,0]),torch.squeeze(Y[ct:bs+ct])) +torch.linalg.norm(f_x_der/f_x.view(f_x.shape[0],1)+ net_5.loss_reg,dim=1)\n",
        "        loss.backward(torch.ones_like(loss), retain_graph=True)\n",
        "        losses+=torch.sum(loss)/len(X)\n",
        "        losses_reg+=torch.sum(torch.linalg.norm(f_x_der/f_x.view(f_x.shape[0],1)+net_5.loss_reg,dim=1)/len(X))\n",
        "        opt1.step()\n",
        "    print(\"Epoch number:\",epoch,\"  Iteration number:\",ct,\" LR :\",opt1.param_groups[0][\"lr\"], \" Loss:\",losses, \"Reg Loss:\",losses_reg)\n",
        "    # if(epoch%20==19):\n",
        "    #     scheduler.step()\n"
      ]
    },
    {
      "cell_type": "code",
      "execution_count": 47,
      "metadata": {},
      "outputs": [],
      "source": [
        "import torch.optim as optim\n",
        "\n",
        "criterion = nn.BCELoss(reduction= 'none')\n",
        "def my_loss(y_pred,y_train,reg_loss):\n",
        "    loss = criterion(y_pred,y_train) +reg_loss\n",
        "    return loss\n",
        "# optimizer = optim.SGD(net.parameters(), lr=0.001, momentum=0.9)\n",
        "torch.autograd.set_detect_anomaly(False)\n",
        "net_10 = Net(10)\n",
        "import torch.optim.lr_scheduler as lr_scheduler"
      ]
    },
    {
      "cell_type": "code",
      "execution_count": 53,
      "metadata": {},
      "outputs": [
        {
          "name": "stdout",
          "output_type": "stream",
          "text": [
            "Epoch number: 0   Iteration number: 9000  LR : 0.0001  Loss: tensor(1.6387, device='cuda:0', grad_fn=<AddBackward0>) Reg Loss: tensor(1.1740, device='cuda:0', grad_fn=<AddBackward0>)\n",
            "Epoch number: 1   Iteration number: 9000  LR : 0.0001  Loss: tensor(1.5847, device='cuda:0', grad_fn=<AddBackward0>) Reg Loss: tensor(1.1204, device='cuda:0', grad_fn=<AddBackward0>)\n",
            "Epoch number: 2   Iteration number: 9000  LR : 0.0001  Loss: tensor(1.5610, device='cuda:0', grad_fn=<AddBackward0>) Reg Loss: tensor(1.0967, device='cuda:0', grad_fn=<AddBackward0>)\n",
            "Epoch number: 3   Iteration number: 9000  LR : 0.0001  Loss: tensor(1.5477, device='cuda:0', grad_fn=<AddBackward0>) Reg Loss: tensor(1.0831, device='cuda:0', grad_fn=<AddBackward0>)\n",
            "Epoch number: 4   Iteration number: 9000  LR : 0.0001  Loss: tensor(1.5388, device='cuda:0', grad_fn=<AddBackward0>) Reg Loss: tensor(1.0743, device='cuda:0', grad_fn=<AddBackward0>)\n",
            "Epoch number: 5   Iteration number: 9000  LR : 0.0001  Loss: tensor(1.5335, device='cuda:0', grad_fn=<AddBackward0>) Reg Loss: tensor(1.0690, device='cuda:0', grad_fn=<AddBackward0>)\n",
            "Epoch number: 6   Iteration number: 9000  LR : 0.0001  Loss: tensor(1.5295, device='cuda:0', grad_fn=<AddBackward0>) Reg Loss: tensor(1.0652, device='cuda:0', grad_fn=<AddBackward0>)\n",
            "Epoch number: 7   Iteration number: 9000  LR : 0.0001  Loss: tensor(1.5254, device='cuda:0', grad_fn=<AddBackward0>) Reg Loss: tensor(1.0612, device='cuda:0', grad_fn=<AddBackward0>)\n",
            "Epoch number: 8   Iteration number: 9000  LR : 0.0001  Loss: tensor(1.5221, device='cuda:0', grad_fn=<AddBackward0>) Reg Loss: tensor(1.0580, device='cuda:0', grad_fn=<AddBackward0>)\n",
            "Epoch number: 9   Iteration number: 9000  LR : 0.0001  Loss: tensor(1.5191, device='cuda:0', grad_fn=<AddBackward0>) Reg Loss: tensor(1.0552, device='cuda:0', grad_fn=<AddBackward0>)\n"
          ]
        }
      ],
      "source": [
        "net_10= net_10.cuda()\n",
        "# data=X.cuda()\n",
        "batch_size = 1\n",
        "epochs = 10\n",
        "Y = Y.cuda()\n",
        "opt1 = torch.optim.Adam(net_10.parameters(),lr=0.0001)\n",
        "# scheduler = lr_scheduler.LinearLR(opt1, start_factor=1.0, end_factor=0.1, total_iters=10)\n",
        "net_10.train()\n",
        "bs = 1000\n",
        "for epoch in range(epochs):\n",
        "    losses = 0\n",
        "    losses_reg = 0\n",
        "    for ct in range(0,len(X),bs):\n",
        "        x = data[ct:bs+ct].detach().cuda()\n",
        "\n",
        "        opt1.zero_grad()\n",
        "        x_hat = net_10(x)\n",
        "        # f = py_kde(x,x,0.65)\n",
        "        f_x = py_kde(x,x,0.65)\n",
        "        f_x_der = py_kde_der(f_x,x)\n",
        "        #loss = torch.linalg.norm(f_x_der/f_x.view(f_x.shape[0],1)+ net_10.loss_reg,dim=1)\n",
        "        loss = criterion(torch.squeeze(x_hat[0:,0:,0]),torch.squeeze(Y[ct:bs+ct])) +torch.linalg.norm(f_x_der/f_x.view(f_x.shape[0],1)+ net_10.loss_reg,dim=1)\n",
        "        loss.backward(torch.ones_like(loss), retain_graph=True)\n",
        "        opt1.step()\n",
        "        losses+=torch.sum(loss)/len(X)\n",
        "        losses_reg+=torch.sum(torch.linalg.norm(f_x_der/f_x.view(f_x.shape[0],1)+net_10.loss_reg,dim=1)/len(X))\n",
        "\n",
        "    print(\"Epoch number:\",epoch,\"  Iteration number:\",ct,\" LR :\",opt1.param_groups[0][\"lr\"], \" Loss:\",losses, \"Reg Loss:\",losses_reg)\n",
        "    # if(epoch%20==19):"
      ]
    },
    {
      "cell_type": "markdown",
      "metadata": {},
      "source": [
        "## Upper bound on Epsilon\n"
      ]
    },
    {
      "cell_type": "code",
      "execution_count": 54,
      "metadata": {},
      "outputs": [],
      "source": [
        "data=X\n",
        "\n",
        "\n",
        "\n",
        "losses= torch.zeros(X.shape[0])\n",
        "bs = 1000\n",
        "n = bs\n",
        "h = 0.65\n",
        "d = X.shape[1]\n",
        "alpha= 0.01\n",
        "for ct in range(0,len(X),bs):\n",
        "    x = data[ct:bs+ct].detach()\n",
        "    x_hat = net_10(x)\n",
        "    f = py_kde(x,x,0.65)\n",
        "    f_der = py_kde_der(f,x)\n",
        "    ci = CI_KDE(f,n,h,d,alpha)\n",
        "    loss =torch.max(torch.linalg.norm(f_der/(f-ci).view(f.shape[0],1)+net_10.loss_reg,dim=1),torch.linalg.norm(f_der/(f+ci).view(f.shape[0],1)+net_10.loss_reg,dim=1)) \n",
        "    losses[ct:bs+ct] =loss"
      ]
    },
    {
      "cell_type": "code",
      "execution_count": 64,
      "metadata": {},
      "outputs": [
        {
          "data": {
            "text/plain": [
              "tensor(9592)"
            ]
          },
          "execution_count": 64,
          "metadata": {},
          "output_type": "execute_result"
        }
      ],
      "source": [
        "(losses*2.7<5).sum()"
      ]
    },
    {
      "cell_type": "code",
      "execution_count": 81,
      "metadata": {},
      "outputs": [],
      "source": [
        "# with torch.no_grad():\n",
        "net_10 = net_10.eval()\n",
        "net_10 = net_10.cuda()\n"
      ]
    },
    {
      "cell_type": "code",
      "execution_count": 85,
      "metadata": {},
      "outputs": [
        {
          "ename": "OutOfMemoryError",
          "evalue": "CUDA out of memory. Tried to allocate 2.00 MiB (GPU 0; 15.73 GiB total capacity; 13.64 GiB already allocated; 74.19 MiB free; 14.37 GiB reserved in total by PyTorch) If reserved memory is >> allocated memory try setting max_split_size_mb to avoid fragmentation.  See documentation for Memory Management and PYTORCH_CUDA_ALLOC_CONF",
          "output_type": "error",
          "traceback": [
            "\u001b[0;31m---------------------------------------------------------------------------\u001b[0m",
            "\u001b[0;31mOutOfMemoryError\u001b[0m                          Traceback (most recent call last)",
            "\u001b[1;32m/home/kaustubh/Code/PowMechNB_copy2.ipynb Cell 37\u001b[0m line \u001b[0;36m1\n\u001b[0;32m----> <a href='vscode-notebook-cell://ssh-remote%2B10.198.63.24/home/kaustubh/Code/PowMechNB_copy2.ipynb#X61sdnNjb2RlLXJlbW90ZQ%3D%3D?line=0'>1</a>\u001b[0m net_10(X_test[\u001b[39m0\u001b[39;49m:\u001b[39m10\u001b[39;49m]\u001b[39m.\u001b[39;49mcuda())\n",
            "File \u001b[0;32m~/llm/lib/python3.10/site-packages/torch/nn/modules/module.py:1501\u001b[0m, in \u001b[0;36mModule._call_impl\u001b[0;34m(self, *args, **kwargs)\u001b[0m\n\u001b[1;32m   1496\u001b[0m \u001b[39m# If we don't have any hooks, we want to skip the rest of the logic in\u001b[39;00m\n\u001b[1;32m   1497\u001b[0m \u001b[39m# this function, and just call forward.\u001b[39;00m\n\u001b[1;32m   1498\u001b[0m \u001b[39mif\u001b[39;00m \u001b[39mnot\u001b[39;00m (\u001b[39mself\u001b[39m\u001b[39m.\u001b[39m_backward_hooks \u001b[39mor\u001b[39;00m \u001b[39mself\u001b[39m\u001b[39m.\u001b[39m_backward_pre_hooks \u001b[39mor\u001b[39;00m \u001b[39mself\u001b[39m\u001b[39m.\u001b[39m_forward_hooks \u001b[39mor\u001b[39;00m \u001b[39mself\u001b[39m\u001b[39m.\u001b[39m_forward_pre_hooks\n\u001b[1;32m   1499\u001b[0m         \u001b[39mor\u001b[39;00m _global_backward_pre_hooks \u001b[39mor\u001b[39;00m _global_backward_hooks\n\u001b[1;32m   1500\u001b[0m         \u001b[39mor\u001b[39;00m _global_forward_hooks \u001b[39mor\u001b[39;00m _global_forward_pre_hooks):\n\u001b[0;32m-> 1501\u001b[0m     \u001b[39mreturn\u001b[39;00m forward_call(\u001b[39m*\u001b[39;49margs, \u001b[39m*\u001b[39;49m\u001b[39m*\u001b[39;49mkwargs)\n\u001b[1;32m   1502\u001b[0m \u001b[39m# Do not call functions when jit is used\u001b[39;00m\n\u001b[1;32m   1503\u001b[0m full_backward_hooks, non_full_backward_hooks \u001b[39m=\u001b[39m [], []\n",
            "\u001b[1;32m/home/kaustubh/Code/PowMechNB_copy2.ipynb Cell 37\u001b[0m line \u001b[0;36m5\n\u001b[1;32m     <a href='vscode-notebook-cell://ssh-remote%2B10.198.63.24/home/kaustubh/Code/PowMechNB_copy2.ipynb#X61sdnNjb2RlLXJlbW90ZQ%3D%3D?line=50'>51</a>\u001b[0m loss_reg \u001b[39m=\u001b[39m torch\u001b[39m.\u001b[39mzeros(bs,d)\u001b[39m.\u001b[39mcuda()\n\u001b[1;32m     <a href='vscode-notebook-cell://ssh-remote%2B10.198.63.24/home/kaustubh/Code/PowMechNB_copy2.ipynb#X61sdnNjb2RlLXJlbW90ZQ%3D%3D?line=51'>52</a>\u001b[0m \u001b[39mfor\u001b[39;00m i \u001b[39min\u001b[39;00m \u001b[39mrange\u001b[39m(p):\n\u001b[0;32m---> <a href='vscode-notebook-cell://ssh-remote%2B10.198.63.24/home/kaustubh/Code/PowMechNB_copy2.ipynb#X61sdnNjb2RlLXJlbW90ZQ%3D%3D?line=52'>53</a>\u001b[0m     H \u001b[39m=\u001b[39m \u001b[39mself\u001b[39;49m\u001b[39m.\u001b[39;49mH_net1(z)\u001b[39m.\u001b[39mcuda()\n\u001b[1;32m     <a href='vscode-notebook-cell://ssh-remote%2B10.198.63.24/home/kaustubh/Code/PowMechNB_copy2.ipynb#X61sdnNjb2RlLXJlbW90ZQ%3D%3D?line=53'>54</a>\u001b[0m     H \u001b[39m=\u001b[39m H\u001b[39m.\u001b[39mreshape(bs,d,d)\n\u001b[1;32m     <a href='vscode-notebook-cell://ssh-remote%2B10.198.63.24/home/kaustubh/Code/PowMechNB_copy2.ipynb#X61sdnNjb2RlLXJlbW90ZQ%3D%3D?line=54'>55</a>\u001b[0m     z \u001b[39m=\u001b[39m torch\u001b[39m.\u001b[39mmatmul(z,H)\u001b[39m.\u001b[39mcuda()\n",
            "File \u001b[0;32m~/llm/lib/python3.10/site-packages/torch/nn/modules/module.py:1501\u001b[0m, in \u001b[0;36mModule._call_impl\u001b[0;34m(self, *args, **kwargs)\u001b[0m\n\u001b[1;32m   1496\u001b[0m \u001b[39m# If we don't have any hooks, we want to skip the rest of the logic in\u001b[39;00m\n\u001b[1;32m   1497\u001b[0m \u001b[39m# this function, and just call forward.\u001b[39;00m\n\u001b[1;32m   1498\u001b[0m \u001b[39mif\u001b[39;00m \u001b[39mnot\u001b[39;00m (\u001b[39mself\u001b[39m\u001b[39m.\u001b[39m_backward_hooks \u001b[39mor\u001b[39;00m \u001b[39mself\u001b[39m\u001b[39m.\u001b[39m_backward_pre_hooks \u001b[39mor\u001b[39;00m \u001b[39mself\u001b[39m\u001b[39m.\u001b[39m_forward_hooks \u001b[39mor\u001b[39;00m \u001b[39mself\u001b[39m\u001b[39m.\u001b[39m_forward_pre_hooks\n\u001b[1;32m   1499\u001b[0m         \u001b[39mor\u001b[39;00m _global_backward_pre_hooks \u001b[39mor\u001b[39;00m _global_backward_hooks\n\u001b[1;32m   1500\u001b[0m         \u001b[39mor\u001b[39;00m _global_forward_hooks \u001b[39mor\u001b[39;00m _global_forward_pre_hooks):\n\u001b[0;32m-> 1501\u001b[0m     \u001b[39mreturn\u001b[39;00m forward_call(\u001b[39m*\u001b[39;49margs, \u001b[39m*\u001b[39;49m\u001b[39m*\u001b[39;49mkwargs)\n\u001b[1;32m   1502\u001b[0m \u001b[39m# Do not call functions when jit is used\u001b[39;00m\n\u001b[1;32m   1503\u001b[0m full_backward_hooks, non_full_backward_hooks \u001b[39m=\u001b[39m [], []\n",
            "File \u001b[0;32m~/llm/lib/python3.10/site-packages/torch/nn/modules/container.py:217\u001b[0m, in \u001b[0;36mSequential.forward\u001b[0;34m(self, input)\u001b[0m\n\u001b[1;32m    215\u001b[0m \u001b[39mdef\u001b[39;00m \u001b[39mforward\u001b[39m(\u001b[39mself\u001b[39m, \u001b[39minput\u001b[39m):\n\u001b[1;32m    216\u001b[0m     \u001b[39mfor\u001b[39;00m module \u001b[39min\u001b[39;00m \u001b[39mself\u001b[39m:\n\u001b[0;32m--> 217\u001b[0m         \u001b[39minput\u001b[39m \u001b[39m=\u001b[39m module(\u001b[39minput\u001b[39;49m)\n\u001b[1;32m    218\u001b[0m     \u001b[39mreturn\u001b[39;00m \u001b[39minput\u001b[39m\n",
            "File \u001b[0;32m~/llm/lib/python3.10/site-packages/torch/nn/modules/module.py:1501\u001b[0m, in \u001b[0;36mModule._call_impl\u001b[0;34m(self, *args, **kwargs)\u001b[0m\n\u001b[1;32m   1496\u001b[0m \u001b[39m# If we don't have any hooks, we want to skip the rest of the logic in\u001b[39;00m\n\u001b[1;32m   1497\u001b[0m \u001b[39m# this function, and just call forward.\u001b[39;00m\n\u001b[1;32m   1498\u001b[0m \u001b[39mif\u001b[39;00m \u001b[39mnot\u001b[39;00m (\u001b[39mself\u001b[39m\u001b[39m.\u001b[39m_backward_hooks \u001b[39mor\u001b[39;00m \u001b[39mself\u001b[39m\u001b[39m.\u001b[39m_backward_pre_hooks \u001b[39mor\u001b[39;00m \u001b[39mself\u001b[39m\u001b[39m.\u001b[39m_forward_hooks \u001b[39mor\u001b[39;00m \u001b[39mself\u001b[39m\u001b[39m.\u001b[39m_forward_pre_hooks\n\u001b[1;32m   1499\u001b[0m         \u001b[39mor\u001b[39;00m _global_backward_pre_hooks \u001b[39mor\u001b[39;00m _global_backward_hooks\n\u001b[1;32m   1500\u001b[0m         \u001b[39mor\u001b[39;00m _global_forward_hooks \u001b[39mor\u001b[39;00m _global_forward_pre_hooks):\n\u001b[0;32m-> 1501\u001b[0m     \u001b[39mreturn\u001b[39;00m forward_call(\u001b[39m*\u001b[39;49margs, \u001b[39m*\u001b[39;49m\u001b[39m*\u001b[39;49mkwargs)\n\u001b[1;32m   1502\u001b[0m \u001b[39m# Do not call functions when jit is used\u001b[39;00m\n\u001b[1;32m   1503\u001b[0m full_backward_hooks, non_full_backward_hooks \u001b[39m=\u001b[39m [], []\n",
            "File \u001b[0;32m~/llm/lib/python3.10/site-packages/torch/nn/modules/linear.py:114\u001b[0m, in \u001b[0;36mLinear.forward\u001b[0;34m(self, input)\u001b[0m\n\u001b[1;32m    113\u001b[0m \u001b[39mdef\u001b[39;00m \u001b[39mforward\u001b[39m(\u001b[39mself\u001b[39m, \u001b[39minput\u001b[39m: Tensor) \u001b[39m-\u001b[39m\u001b[39m>\u001b[39m Tensor:\n\u001b[0;32m--> 114\u001b[0m     \u001b[39mreturn\u001b[39;00m F\u001b[39m.\u001b[39;49mlinear(\u001b[39minput\u001b[39;49m, \u001b[39mself\u001b[39;49m\u001b[39m.\u001b[39;49mweight, \u001b[39mself\u001b[39;49m\u001b[39m.\u001b[39;49mbias)\n",
            "\u001b[0;31mOutOfMemoryError\u001b[0m: CUDA out of memory. Tried to allocate 2.00 MiB (GPU 0; 15.73 GiB total capacity; 13.64 GiB already allocated; 74.19 MiB free; 14.37 GiB reserved in total by PyTorch) If reserved memory is >> allocated memory try setting max_split_size_mb to avoid fragmentation.  See documentation for Memory Management and PYTORCH_CUDA_ALLOC_CONF"
          ]
        }
      ],
      "source": [
        "net_10(X_test[0:10].cuda())"
      ]
    },
    {
      "cell_type": "code",
      "execution_count": 80,
      "metadata": {},
      "outputs": [
        {
          "ename": "OutOfMemoryError",
          "evalue": "CUDA out of memory. Tried to allocate 2.00 MiB (GPU 0; 15.73 GiB total capacity; 13.64 GiB already allocated; 74.19 MiB free; 14.37 GiB reserved in total by PyTorch) If reserved memory is >> allocated memory try setting max_split_size_mb to avoid fragmentation.  See documentation for Memory Management and PYTORCH_CUDA_ALLOC_CONF",
          "output_type": "error",
          "traceback": [
            "\u001b[0;31m---------------------------------------------------------------------------\u001b[0m",
            "\u001b[0;31mOutOfMemoryError\u001b[0m                          Traceback (most recent call last)",
            "\u001b[1;32m/home/kaustubh/Code/PowMechNB_copy2.ipynb Cell 37\u001b[0m line \u001b[0;36m1\n\u001b[0;32m----> <a href='vscode-notebook-cell://ssh-remote%2B10.198.63.24/home/kaustubh/Code/PowMechNB_copy2.ipynb#X60sdnNjb2RlLXJlbW90ZQ%3D%3D?line=0'>1</a>\u001b[0m y_pred \u001b[39m=\u001b[39m net_10(X\u001b[39m.\u001b[39;49mcpu())\n\u001b[1;32m      <a href='vscode-notebook-cell://ssh-remote%2B10.198.63.24/home/kaustubh/Code/PowMechNB_copy2.ipynb#X60sdnNjb2RlLXJlbW90ZQ%3D%3D?line=3'>4</a>\u001b[0m \u001b[39m# accuracy = (y_pred.round() == Y.cpu()).float().mean()\u001b[39;00m\n\u001b[1;32m      <a href='vscode-notebook-cell://ssh-remote%2B10.198.63.24/home/kaustubh/Code/PowMechNB_copy2.ipynb#X60sdnNjb2RlLXJlbW90ZQ%3D%3D?line=4'>5</a>\u001b[0m \u001b[39m# print(f\"Accuracy {accuracy}\")\u001b[39;00m\n",
            "File \u001b[0;32m~/llm/lib/python3.10/site-packages/torch/nn/modules/module.py:1501\u001b[0m, in \u001b[0;36mModule._call_impl\u001b[0;34m(self, *args, **kwargs)\u001b[0m\n\u001b[1;32m   1496\u001b[0m \u001b[39m# If we don't have any hooks, we want to skip the rest of the logic in\u001b[39;00m\n\u001b[1;32m   1497\u001b[0m \u001b[39m# this function, and just call forward.\u001b[39;00m\n\u001b[1;32m   1498\u001b[0m \u001b[39mif\u001b[39;00m \u001b[39mnot\u001b[39;00m (\u001b[39mself\u001b[39m\u001b[39m.\u001b[39m_backward_hooks \u001b[39mor\u001b[39;00m \u001b[39mself\u001b[39m\u001b[39m.\u001b[39m_backward_pre_hooks \u001b[39mor\u001b[39;00m \u001b[39mself\u001b[39m\u001b[39m.\u001b[39m_forward_hooks \u001b[39mor\u001b[39;00m \u001b[39mself\u001b[39m\u001b[39m.\u001b[39m_forward_pre_hooks\n\u001b[1;32m   1499\u001b[0m         \u001b[39mor\u001b[39;00m _global_backward_pre_hooks \u001b[39mor\u001b[39;00m _global_backward_hooks\n\u001b[1;32m   1500\u001b[0m         \u001b[39mor\u001b[39;00m _global_forward_hooks \u001b[39mor\u001b[39;00m _global_forward_pre_hooks):\n\u001b[0;32m-> 1501\u001b[0m     \u001b[39mreturn\u001b[39;00m forward_call(\u001b[39m*\u001b[39;49margs, \u001b[39m*\u001b[39;49m\u001b[39m*\u001b[39;49mkwargs)\n\u001b[1;32m   1502\u001b[0m \u001b[39m# Do not call functions when jit is used\u001b[39;00m\n\u001b[1;32m   1503\u001b[0m full_backward_hooks, non_full_backward_hooks \u001b[39m=\u001b[39m [], []\n",
            "\u001b[1;32m/home/kaustubh/Code/PowMechNB_copy2.ipynb Cell 37\u001b[0m line \u001b[0;36m5\n\u001b[1;32m     <a href='vscode-notebook-cell://ssh-remote%2B10.198.63.24/home/kaustubh/Code/PowMechNB_copy2.ipynb#X60sdnNjb2RlLXJlbW90ZQ%3D%3D?line=53'>54</a>\u001b[0m H \u001b[39m=\u001b[39m H\u001b[39m.\u001b[39mreshape(bs,d,d)\n\u001b[1;32m     <a href='vscode-notebook-cell://ssh-remote%2B10.198.63.24/home/kaustubh/Code/PowMechNB_copy2.ipynb#X60sdnNjb2RlLXJlbW90ZQ%3D%3D?line=54'>55</a>\u001b[0m z \u001b[39m=\u001b[39m torch\u001b[39m.\u001b[39mmatmul(z,H)\u001b[39m.\u001b[39mcuda()\n\u001b[0;32m---> <a href='vscode-notebook-cell://ssh-remote%2B10.198.63.24/home/kaustubh/Code/PowMechNB_copy2.ipynb#X60sdnNjb2RlLXJlbW90ZQ%3D%3D?line=55'>56</a>\u001b[0m J \u001b[39m=\u001b[39m batch_jacobian(H_mul, z, create_graph\u001b[39m=\u001b[39;49m\u001b[39mTrue\u001b[39;49;00m)\n\u001b[1;32m     <a href='vscode-notebook-cell://ssh-remote%2B10.198.63.24/home/kaustubh/Code/PowMechNB_copy2.ipynb#X60sdnNjb2RlLXJlbW90ZQ%3D%3D?line=56'>57</a>\u001b[0m J_int \u001b[39m=\u001b[39m\u001b[39m-\u001b[39mtorch\u001b[39m.\u001b[39mlog(torch\u001b[39m.\u001b[39mabs(torch\u001b[39m.\u001b[39mdet(J)))\n\u001b[1;32m     <a href='vscode-notebook-cell://ssh-remote%2B10.198.63.24/home/kaustubh/Code/PowMechNB_copy2.ipynb#X60sdnNjb2RlLXJlbW90ZQ%3D%3D?line=57'>58</a>\u001b[0m loss_reg \u001b[39m=\u001b[39m loss_reg \u001b[39m+\u001b[39m torch\u001b[39m.\u001b[39msqueeze(torch\u001b[39m.\u001b[39mautograd\u001b[39m.\u001b[39mgrad(J_int, x,torch\u001b[39m.\u001b[39mones_like(J_int),allow_unused\u001b[39m=\u001b[39m\u001b[39mTrue\u001b[39;00m,create_graph\u001b[39m=\u001b[39m \u001b[39mTrue\u001b[39;00m)[\u001b[39m0\u001b[39m])\u001b[39m.\u001b[39mcuda()\n",
            "\u001b[1;32m/home/kaustubh/Code/PowMechNB_copy2.ipynb Cell 37\u001b[0m line \u001b[0;36m4\n\u001b[1;32m     <a href='vscode-notebook-cell://ssh-remote%2B10.198.63.24/home/kaustubh/Code/PowMechNB_copy2.ipynb#X60sdnNjb2RlLXJlbW90ZQ%3D%3D?line=39'>40</a>\u001b[0m \u001b[39mdef\u001b[39;00m \u001b[39m_func_sum\u001b[39m(z):\n\u001b[1;32m     <a href='vscode-notebook-cell://ssh-remote%2B10.198.63.24/home/kaustubh/Code/PowMechNB_copy2.ipynb#X60sdnNjb2RlLXJlbW90ZQ%3D%3D?line=40'>41</a>\u001b[0m     \u001b[39mreturn\u001b[39;00m func(z)\u001b[39m.\u001b[39msum(dim\u001b[39m=\u001b[39m\u001b[39m0\u001b[39m)\n\u001b[0;32m---> <a href='vscode-notebook-cell://ssh-remote%2B10.198.63.24/home/kaustubh/Code/PowMechNB_copy2.ipynb#X60sdnNjb2RlLXJlbW90ZQ%3D%3D?line=41'>42</a>\u001b[0m \u001b[39mreturn\u001b[39;00m torch\u001b[39m.\u001b[39msqueeze(torch\u001b[39m.\u001b[39;49mautograd\u001b[39m.\u001b[39;49mfunctional\u001b[39m.\u001b[39;49mjacobian(_func_sum, z, create_graph\u001b[39m=\u001b[39;49mcreate_graph))\u001b[39m.\u001b[39mpermute(\u001b[39m1\u001b[39m,\u001b[39m0\u001b[39m,\u001b[39m2\u001b[39m)\n",
            "File \u001b[0;32m~/llm/lib/python3.10/site-packages/torch/autograd/functional.py:686\u001b[0m, in \u001b[0;36mjacobian\u001b[0;34m(func, inputs, create_graph, strict, vectorize, strategy)\u001b[0m\n\u001b[1;32m    684\u001b[0m jac_i: Tuple[List[torch\u001b[39m.\u001b[39mTensor]] \u001b[39m=\u001b[39m \u001b[39mtuple\u001b[39m([] \u001b[39mfor\u001b[39;00m _ \u001b[39min\u001b[39;00m \u001b[39mrange\u001b[39m(\u001b[39mlen\u001b[39m(inputs)))  \u001b[39m# type: ignore[assignment]\u001b[39;00m\n\u001b[1;32m    685\u001b[0m \u001b[39mfor\u001b[39;00m j \u001b[39min\u001b[39;00m \u001b[39mrange\u001b[39m(out\u001b[39m.\u001b[39mnelement()):\n\u001b[0;32m--> 686\u001b[0m     vj \u001b[39m=\u001b[39m _autograd_grad((out\u001b[39m.\u001b[39;49mreshape(\u001b[39m-\u001b[39;49m\u001b[39m1\u001b[39;49m)[j],), inputs,\n\u001b[1;32m    687\u001b[0m                         retain_graph\u001b[39m=\u001b[39;49m\u001b[39mTrue\u001b[39;49;00m, create_graph\u001b[39m=\u001b[39;49mcreate_graph)\n\u001b[1;32m    689\u001b[0m     \u001b[39mfor\u001b[39;00m el_idx, (jac_i_el, vj_el, inp_el) \u001b[39min\u001b[39;00m \u001b[39menumerate\u001b[39m(\u001b[39mzip\u001b[39m(jac_i, vj, inputs)):\n\u001b[1;32m    690\u001b[0m         \u001b[39mif\u001b[39;00m vj_el \u001b[39mis\u001b[39;00m \u001b[39mnot\u001b[39;00m \u001b[39mNone\u001b[39;00m:\n",
            "File \u001b[0;32m~/llm/lib/python3.10/site-packages/torch/autograd/functional.py:167\u001b[0m, in \u001b[0;36m_autograd_grad\u001b[0;34m(outputs, inputs, grad_outputs, create_graph, retain_graph, is_grads_batched)\u001b[0m\n\u001b[1;32m    165\u001b[0m     \u001b[39mreturn\u001b[39;00m (\u001b[39mNone\u001b[39;00m,) \u001b[39m*\u001b[39m \u001b[39mlen\u001b[39m(inputs)\n\u001b[1;32m    166\u001b[0m \u001b[39melse\u001b[39;00m:\n\u001b[0;32m--> 167\u001b[0m     \u001b[39mreturn\u001b[39;00m torch\u001b[39m.\u001b[39;49mautograd\u001b[39m.\u001b[39;49mgrad(new_outputs, inputs, new_grad_outputs, allow_unused\u001b[39m=\u001b[39;49m\u001b[39mTrue\u001b[39;49;00m,\n\u001b[1;32m    168\u001b[0m                                create_graph\u001b[39m=\u001b[39;49mcreate_graph, retain_graph\u001b[39m=\u001b[39;49mretain_graph,\n\u001b[1;32m    169\u001b[0m                                is_grads_batched\u001b[39m=\u001b[39;49mis_grads_batched)\n",
            "File \u001b[0;32m~/llm/lib/python3.10/site-packages/torch/autograd/__init__.py:303\u001b[0m, in \u001b[0;36mgrad\u001b[0;34m(outputs, inputs, grad_outputs, retain_graph, create_graph, only_inputs, allow_unused, is_grads_batched)\u001b[0m\n\u001b[1;32m    301\u001b[0m     \u001b[39mreturn\u001b[39;00m _vmap_internals\u001b[39m.\u001b[39m_vmap(vjp, \u001b[39m0\u001b[39m, \u001b[39m0\u001b[39m, allow_none_pass_through\u001b[39m=\u001b[39m\u001b[39mTrue\u001b[39;00m)(grad_outputs_)\n\u001b[1;32m    302\u001b[0m \u001b[39melse\u001b[39;00m:\n\u001b[0;32m--> 303\u001b[0m     \u001b[39mreturn\u001b[39;00m Variable\u001b[39m.\u001b[39;49m_execution_engine\u001b[39m.\u001b[39;49mrun_backward(  \u001b[39m# Calls into the C++ engine to run the backward pass\u001b[39;49;00m\n\u001b[1;32m    304\u001b[0m         t_outputs, grad_outputs_, retain_graph, create_graph, t_inputs,\n\u001b[1;32m    305\u001b[0m         allow_unused, accumulate_grad\u001b[39m=\u001b[39;49m\u001b[39mFalse\u001b[39;49;00m)\n",
            "\u001b[0;31mOutOfMemoryError\u001b[0m: CUDA out of memory. Tried to allocate 2.00 MiB (GPU 0; 15.73 GiB total capacity; 13.64 GiB already allocated; 74.19 MiB free; 14.37 GiB reserved in total by PyTorch) If reserved memory is >> allocated memory try setting max_split_size_mb to avoid fragmentation.  See documentation for Memory Management and PYTORCH_CUDA_ALLOC_CONF"
          ]
        }
      ],
      "source": [
        "y_pred = net_10(X.cpu())\n",
        " \n",
        "\n",
        "# accuracy = (y_pred.round() == Y.cpu()).float().mean()\n",
        "# print(f\"Accuracy {accuracy}\")"
      ]
    },
    {
      "cell_type": "code",
      "execution_count": 126,
      "metadata": {},
      "outputs": [
        {
          "data": {
            "text/plain": [
              "0.6493816315762113"
            ]
          },
          "execution_count": 126,
          "metadata": {},
          "output_type": "execute_result"
        }
      ],
      "source": []
    },
    {
      "cell_type": "code",
      "execution_count": 102,
      "metadata": {},
      "outputs": [
        {
          "data": {
            "text/plain": [
              "tensor(14698.5742, grad_fn=<SumBackward0>)"
            ]
          },
          "execution_count": 102,
          "metadata": {},
          "output_type": "execute_result"
        }
      ],
      "source": [
        "(losses).sum()"
      ]
    },
    {
      "cell_type": "code",
      "execution_count": 191,
      "metadata": {},
      "outputs": [
        {
          "data": {
            "image/png": "[encoded data removed]",
            "text/plain": [
              "<Figure size 640x480 with 1 Axes>"
            ]
          },
          "metadata": {},
          "output_type": "display_data"
        }
      ],
      "source": [
        "\n",
        "from matplotlib import pyplot as plt\n",
        "import numpy as np\n",
        " \n",
        " \n",
        "# Creating dataset\n",
        "a = losses.detach()\n",
        " \n",
        "# Creating histogram\n",
        "fig, ax = plt.subplots()\n",
        "ax.hist(a, bins = np.arange(0,4,0.1))\n",
        " \n",
        "# Show plot\n",
        "plt.show()"
      ]
    },
    {
      "cell_type": "code",
      "execution_count": 165,
      "metadata": {},
      "outputs": [],
      "source": [
        "o = autoencoder1(X_train.detach())\n",
        "X_emb_train = torch.squeeze(autoencoder1.y).detach()\n",
        "o = autoencoder1(X_test.detach())\n",
        "X_emb_test = torch.squeeze(autoencoder1.y).detach()\n"
      ]
    },
    {
      "cell_type": "code",
      "execution_count": 176,
      "metadata": {},
      "outputs": [
        {
          "name": "stdout",
          "output_type": "stream",
          "text": [
            "Accuracy 0.8339999914169312\n"
          ]
        }
      ],
      "source": [
        "\n",
        "# o = autoencoder1(X)\n",
        "# X_embs = torch.squeeze(autoencoder1.y.detach())\n",
        "model = nn.Sequential(\n",
        "    nn.Linear(12, 48),\n",
        "    nn.ReLU(),\n",
        "    nn.Linear(48, 32),\n",
        "    nn.ReLU(),\n",
        "    nn.Linear(32, 1),\n",
        "    nn.Sigmoid(\n",
        "\n",
        "    )\n",
        ")\n",
        "loss_fn = nn.BCELoss()  # binary cross entropy\n",
        "optimizer = optim.Adam(model.parameters(), lr=0.001)\n",
        "n_epochs = 2000\n",
        "batch_size = 1000\n",
        "\n",
        "for epoch in range(n_epochs):\n",
        "    for i in range(0, len(X_emb_train), batch_size):\n",
        "        Xbatch = X_emb_train[i:i+batch_size]\n",
        "        y_pred = model(Xbatch)\n",
        "        ybatch = Y_train[i:i+batch_size]\n",
        "        loss = loss_fn(y_pred, ybatch)\n",
        "        optimizer.zero_grad()\n",
        "        loss.backward()\n",
        "        optimizer.step()\n",
        "    #     print(loss)\n",
        "    # print(f'Finished epoch {epoch}, latest loss {loss}')\n",
        "# compute accuracy (no_grad is optional)\n",
        "with torch.no_grad():\n",
        "    y_pred = model(X_emb_test)\n",
        " \n",
        "accuracy = (y_pred.round() == Y_test).float().mean()\n",
        "print(f\"Accuracy {accuracy}\")"
      ]
    },
    {
      "cell_type": "code",
      "execution_count": 167,
      "metadata": {},
      "outputs": [
        {
          "name": "stdout",
          "output_type": "stream",
          "text": [
            "Accuracy 0.871999979019165\n"
          ]
        }
      ],
      "source": [
        "model1 = nn.Sequential(\n",
        "    nn.Linear(12, 48),\n",
        "    nn.ReLU(),\n",
        "    nn.Linear(48, 32),\n",
        "    nn.ReLU(),\n",
        "    nn.Linear(32, 1),\n",
        "    nn.Sigmoid(\n",
        "\n",
        "    )\n",
        ")\n",
        "loss_fn = nn.BCELoss()  # binary cross entropy\n",
        "optimizer1 = optim.Adam(model1.parameters(), lr=0.001)\n",
        "n_epochs = 1000\n",
        "batch_size = 1000\n",
        " \n",
        "for epoch in range(n_epochs):\n",
        "    for i in range(0, len(X_train), batch_size):\n",
        "        Xbatch = X_train[i:i+batch_size]\n",
        "        y_pred = model1(Xbatch)\n",
        "        ybatch = Y_train[i:i+batch_size]\n",
        "        loss = loss_fn(y_pred, ybatch)\n",
        "        optimizer1.zero_grad()\n",
        "        loss.backward()\n",
        "        optimizer1.step()\n",
        "\n",
        "with torch.no_grad():\n",
        "    y_pred = model1(X_test)\n",
        " \n",
        "accuracy = (y_pred.round() == Y_test).float().mean()\n",
        "print(f\"Accuracy {accuracy}\")"
      ]
    }
  ],
  "metadata": {
    "accelerator": "GPU",
    "colab": {
      "provenance": []
    },
    "kernelspec": {
      "display_name": "torch",
      "language": "python",
      "name": "python3"
    },
    "language_info": {
      "codemirror_mode": {
        "name": "ipython",
        "version": 3
      },
      "file_extension": ".py",
      "mimetype": "text/x-python",
      "name": "python",
      "nbconvert_exporter": "python",
      "pygments_lexer": "ipython3",
      "version": "3.10.12"
    }
  },
  "nbformat": 4,
  "nbformat_minor": 0
}
