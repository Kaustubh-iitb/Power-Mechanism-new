{
 "cells": [
  {
   "cell_type": "code",
   "execution_count": 1,
   "metadata": {},
   "outputs": [],
   "source": [
    "import numpy as np\n",
    "import pandas as pd\n",
    "# import dcMinMaxFunctions as dc\n",
    "# import dcor\n",
    "from scipy.misc import derivative\n",
    "from sklearn.model_selection import train_test_split\n",
    "import math\n",
    "import torch\n",
    "import torch.nn as nn\n",
    "import torch.nn.functional as F\n",
    "from scipy import stats\n",
    "import wandb\n",
    "\n",
    "from cov_help import *\n",
    "device_name = \"cuda:1\"\n",
    "device = torch.device(device_name)\n",
    "data_path = \"./data/covtype.csv\"\n",
    "norm = 1\n",
    "X,Y = cov_data_loader(data_path,norm=norm)\n",
    "# max_dist = torch.cdist(X, X).max()\n",
    "X_train, X_test, Y_train, Y_test = train_test_split(X, Y, test_size=0.2, random_state=42)\n",
    "\n",
    "\n",
    "model_path = \"Models/cov_Net_new_512_100\"\n",
    "model_embs_path = model_path.replace(\"Models\",\"Embeddings\")\n",
    "if (model_path in ['Models/cov_full_expt_512_1','Models/cov_full_expt_512_100','Models/cov_full_expt_512_400','Models/cov_Net_new_512_100','Models/cov_Net_new_128_100']):\n",
    "    X_emb_train = torch.load(model_embs_path + \"/X_emb_train.pt\")\n",
    "    X_emb_test = torch.load(model_embs_path + \"/X_emb_test.pt\")\n",
    "    losses_train = torch.load(model_embs_path + \"/losses_train.pt\")\n",
    "    losses_test = torch.load(model_embs_path + \"/losses_test.pt\")        "
   ]
  },
  {
   "cell_type": "code",
   "execution_count": 2,
   "metadata": {},
   "outputs": [],
   "source": [
    "losses_train,indices = torch.sort(losses_train)\n",
    "set_eps = 1\n",
    "ind = (losses_train < set_eps).sum()\n",
    "\n",
    "    \n",
    "    \n",
    "\n",
    "X_emb_train_priv = X_emb_train[indices][:ind]\n",
    "Y_train = Y_train[indices][:ind]"
   ]
  },
  {
   "cell_type": "code",
   "execution_count": 3,
   "metadata": {},
   "outputs": [
    {
     "name": "stdout",
     "output_type": "stream",
     "text": [
      "0.7400411349104584\n"
     ]
    }
   ],
   "source": [
    "from sklearn.ensemble import RandomForestClassifier\n",
    "\n",
    "# X, y = make_classification(n_samples=1000, n_features=4,\n",
    "#                            n_informative=2, n_redundant=0,\n",
    "#                            random_state=0, shuffle=False) \n",
    "clf = RandomForestClassifier(n_estimators=10,max_depth=10,  random_state=0)\n",
    "clf.fit(X_emb_train_priv, Y_train)\n",
    "# print((clf.predict(X_test)==Y_test).sum()/len(Y_test))\n",
    "print((clf.predict(X_emb_test) == np.asarray(Y_test)).sum()/len(Y_test))"
   ]
  },
  {
   "cell_type": "code",
   "execution_count": 4,
   "metadata": {},
   "outputs": [
    {
     "name": "stdout",
     "output_type": "stream",
     "text": [
      "0.5023880622703373\n"
     ]
    }
   ],
   "source": []
  },
  {
   "cell_type": "code",
   "execution_count": null,
   "metadata": {},
   "outputs": [],
   "source": []
  }
 ],
 "metadata": {
  "kernelspec": {
   "display_name": "chatllm",
   "language": "python",
   "name": "python3"
  },
  "language_info": {
   "codemirror_mode": {
    "name": "ipython",
    "version": 3
   },
   "file_extension": ".py",
   "mimetype": "text/x-python",
   "name": "python",
   "nbconvert_exporter": "python",
   "pygments_lexer": "ipython3",
   "version": "3.10.2"
  }
 },
 "nbformat": 4,
 "nbformat_minor": 2
}
