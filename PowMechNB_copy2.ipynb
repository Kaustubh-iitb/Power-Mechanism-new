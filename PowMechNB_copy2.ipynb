{
  "cells": [
    {
      "cell_type": "markdown",
      "metadata": {},
      "source": [
        "## Data Preprocessing"
      ]
    },
    {
      "cell_type": "code",
      "execution_count": 10,
      "metadata": {},
      "outputs": [],
      "source": [
        "# Imports\n",
        "import numpy as np\n",
        "import pandas as pd\n",
        "# import dcMinMaxFunctions as dc\n",
        "# import dcor\n",
        "from scipy.misc import derivative\n",
        "from sklearn.model_selection import train_test_split\n",
        "import math\n",
        "import torch\n",
        "from scipy import stats\n",
        "import wandb"
      ]
    },
    {
      "cell_type": "code",
      "execution_count": 11,
      "metadata": {},
      "outputs": [],
      "source": [
        "df=pd.read_csv(\"data/Churn_Modelling.csv\")"
      ]
    },
    {
      "cell_type": "code",
      "execution_count": 12,
      "metadata": {},
      "outputs": [
        {
          "data": {
            "text/html": [
              "<div>\n",
              "<style scoped>\n",
              "    .dataframe tbody tr th:only-of-type {\n",
              "        vertical-align: middle;\n",
              "    }\n",
              "\n",
              "    .dataframe tbody tr th {\n",
              "        vertical-align: top;\n",
              "    }\n",
              "\n",
              "    .dataframe thead th {\n",
              "        text-align: right;\n",
              "    }\n",
              "</style>\n",
              "<table border=\"1\" class=\"dataframe\">\n",
              "  <thead>\n",
              "    <tr style=\"text-align: right;\">\n",
              "      <th></th>\n",
              "      <th>RowNumber</th>\n",
              "      <th>CustomerId</th>\n",
              "      <th>Surname</th>\n",
              "      <th>CreditScore</th>\n",
              "      <th>Geography</th>\n",
              "      <th>Gender</th>\n",
              "      <th>Age</th>\n",
              "      <th>Tenure</th>\n",
              "      <th>Balance</th>\n",
              "      <th>NumOfProducts</th>\n",
              "      <th>HasCrCard</th>\n",
              "      <th>IsActiveMember</th>\n",
              "      <th>EstimatedSalary</th>\n",
              "      <th>Exited</th>\n",
              "    </tr>\n",
              "  </thead>\n",
              "  <tbody>\n",
              "    <tr>\n",
              "      <th>0</th>\n",
              "      <td>1</td>\n",
              "      <td>15634602</td>\n",
              "      <td>Hargrave</td>\n",
              "      <td>619</td>\n",
              "      <td>France</td>\n",
              "      <td>Female</td>\n",
              "      <td>42</td>\n",
              "      <td>2</td>\n",
              "      <td>0.00</td>\n",
              "      <td>1</td>\n",
              "      <td>1</td>\n",
              "      <td>1</td>\n",
              "      <td>101348.88</td>\n",
              "      <td>1</td>\n",
              "    </tr>\n",
              "    <tr>\n",
              "      <th>1</th>\n",
              "      <td>2</td>\n",
              "      <td>15647311</td>\n",
              "      <td>Hill</td>\n",
              "      <td>608</td>\n",
              "      <td>Spain</td>\n",
              "      <td>Female</td>\n",
              "      <td>41</td>\n",
              "      <td>1</td>\n",
              "      <td>83807.86</td>\n",
              "      <td>1</td>\n",
              "      <td>0</td>\n",
              "      <td>1</td>\n",
              "      <td>112542.58</td>\n",
              "      <td>0</td>\n",
              "    </tr>\n",
              "    <tr>\n",
              "      <th>2</th>\n",
              "      <td>3</td>\n",
              "      <td>15619304</td>\n",
              "      <td>Onio</td>\n",
              "      <td>502</td>\n",
              "      <td>France</td>\n",
              "      <td>Female</td>\n",
              "      <td>42</td>\n",
              "      <td>8</td>\n",
              "      <td>159660.80</td>\n",
              "      <td>3</td>\n",
              "      <td>1</td>\n",
              "      <td>0</td>\n",
              "      <td>113931.57</td>\n",
              "      <td>1</td>\n",
              "    </tr>\n",
              "    <tr>\n",
              "      <th>3</th>\n",
              "      <td>4</td>\n",
              "      <td>15701354</td>\n",
              "      <td>Boni</td>\n",
              "      <td>699</td>\n",
              "      <td>France</td>\n",
              "      <td>Female</td>\n",
              "      <td>39</td>\n",
              "      <td>1</td>\n",
              "      <td>0.00</td>\n",
              "      <td>2</td>\n",
              "      <td>0</td>\n",
              "      <td>0</td>\n",
              "      <td>93826.63</td>\n",
              "      <td>0</td>\n",
              "    </tr>\n",
              "    <tr>\n",
              "      <th>4</th>\n",
              "      <td>5</td>\n",
              "      <td>15737888</td>\n",
              "      <td>Mitchell</td>\n",
              "      <td>850</td>\n",
              "      <td>Spain</td>\n",
              "      <td>Female</td>\n",
              "      <td>43</td>\n",
              "      <td>2</td>\n",
              "      <td>125510.82</td>\n",
              "      <td>1</td>\n",
              "      <td>1</td>\n",
              "      <td>1</td>\n",
              "      <td>79084.10</td>\n",
              "      <td>0</td>\n",
              "    </tr>\n",
              "    <tr>\n",
              "      <th>...</th>\n",
              "      <td>...</td>\n",
              "      <td>...</td>\n",
              "      <td>...</td>\n",
              "      <td>...</td>\n",
              "      <td>...</td>\n",
              "      <td>...</td>\n",
              "      <td>...</td>\n",
              "      <td>...</td>\n",
              "      <td>...</td>\n",
              "      <td>...</td>\n",
              "      <td>...</td>\n",
              "      <td>...</td>\n",
              "      <td>...</td>\n",
              "      <td>...</td>\n",
              "    </tr>\n",
              "    <tr>\n",
              "      <th>9995</th>\n",
              "      <td>9996</td>\n",
              "      <td>15606229</td>\n",
              "      <td>Obijiaku</td>\n",
              "      <td>771</td>\n",
              "      <td>France</td>\n",
              "      <td>Male</td>\n",
              "      <td>39</td>\n",
              "      <td>5</td>\n",
              "      <td>0.00</td>\n",
              "      <td>2</td>\n",
              "      <td>1</td>\n",
              "      <td>0</td>\n",
              "      <td>96270.64</td>\n",
              "      <td>0</td>\n",
              "    </tr>\n",
              "    <tr>\n",
              "      <th>9996</th>\n",
              "      <td>9997</td>\n",
              "      <td>15569892</td>\n",
              "      <td>Johnstone</td>\n",
              "      <td>516</td>\n",
              "      <td>France</td>\n",
              "      <td>Male</td>\n",
              "      <td>35</td>\n",
              "      <td>10</td>\n",
              "      <td>57369.61</td>\n",
              "      <td>1</td>\n",
              "      <td>1</td>\n",
              "      <td>1</td>\n",
              "      <td>101699.77</td>\n",
              "      <td>0</td>\n",
              "    </tr>\n",
              "    <tr>\n",
              "      <th>9997</th>\n",
              "      <td>9998</td>\n",
              "      <td>15584532</td>\n",
              "      <td>Liu</td>\n",
              "      <td>709</td>\n",
              "      <td>France</td>\n",
              "      <td>Female</td>\n",
              "      <td>36</td>\n",
              "      <td>7</td>\n",
              "      <td>0.00</td>\n",
              "      <td>1</td>\n",
              "      <td>0</td>\n",
              "      <td>1</td>\n",
              "      <td>42085.58</td>\n",
              "      <td>1</td>\n",
              "    </tr>\n",
              "    <tr>\n",
              "      <th>9998</th>\n",
              "      <td>9999</td>\n",
              "      <td>15682355</td>\n",
              "      <td>Sabbatini</td>\n",
              "      <td>772</td>\n",
              "      <td>Germany</td>\n",
              "      <td>Male</td>\n",
              "      <td>42</td>\n",
              "      <td>3</td>\n",
              "      <td>75075.31</td>\n",
              "      <td>2</td>\n",
              "      <td>1</td>\n",
              "      <td>0</td>\n",
              "      <td>92888.52</td>\n",
              "      <td>1</td>\n",
              "    </tr>\n",
              "    <tr>\n",
              "      <th>9999</th>\n",
              "      <td>10000</td>\n",
              "      <td>15628319</td>\n",
              "      <td>Walker</td>\n",
              "      <td>792</td>\n",
              "      <td>France</td>\n",
              "      <td>Female</td>\n",
              "      <td>28</td>\n",
              "      <td>4</td>\n",
              "      <td>130142.79</td>\n",
              "      <td>1</td>\n",
              "      <td>1</td>\n",
              "      <td>0</td>\n",
              "      <td>38190.78</td>\n",
              "      <td>0</td>\n",
              "    </tr>\n",
              "  </tbody>\n",
              "</table>\n",
              "<p>10000 rows × 14 columns</p>\n",
              "</div>"
            ],
            "text/plain": [
              "      RowNumber  CustomerId    Surname  CreditScore Geography  Gender  Age  \\\n",
              "0             1    15634602   Hargrave          619    France  Female   42   \n",
              "1             2    15647311       Hill          608     Spain  Female   41   \n",
              "2             3    15619304       Onio          502    France  Female   42   \n",
              "3             4    15701354       Boni          699    France  Female   39   \n",
              "4             5    15737888   Mitchell          850     Spain  Female   43   \n",
              "...         ...         ...        ...          ...       ...     ...  ...   \n",
              "9995       9996    15606229   Obijiaku          771    France    Male   39   \n",
              "9996       9997    15569892  Johnstone          516    France    Male   35   \n",
              "9997       9998    15584532        Liu          709    France  Female   36   \n",
              "9998       9999    15682355  Sabbatini          772   Germany    Male   42   \n",
              "9999      10000    15628319     Walker          792    France  Female   28   \n",
              "\n",
              "      Tenure    Balance  NumOfProducts  HasCrCard  IsActiveMember  \\\n",
              "0          2       0.00              1          1               1   \n",
              "1          1   83807.86              1          0               1   \n",
              "2          8  159660.80              3          1               0   \n",
              "3          1       0.00              2          0               0   \n",
              "4          2  125510.82              1          1               1   \n",
              "...      ...        ...            ...        ...             ...   \n",
              "9995       5       0.00              2          1               0   \n",
              "9996      10   57369.61              1          1               1   \n",
              "9997       7       0.00              1          0               1   \n",
              "9998       3   75075.31              2          1               0   \n",
              "9999       4  130142.79              1          1               0   \n",
              "\n",
              "      EstimatedSalary  Exited  \n",
              "0           101348.88       1  \n",
              "1           112542.58       0  \n",
              "2           113931.57       1  \n",
              "3            93826.63       0  \n",
              "4            79084.10       0  \n",
              "...               ...     ...  \n",
              "9995         96270.64       0  \n",
              "9996        101699.77       0  \n",
              "9997         42085.58       1  \n",
              "9998         92888.52       1  \n",
              "9999         38190.78       0  \n",
              "\n",
              "[10000 rows x 14 columns]"
            ]
          },
          "execution_count": 12,
          "metadata": {},
          "output_type": "execute_result"
        }
      ],
      "source": [
        "df"
      ]
    },
    {
      "cell_type": "code",
      "execution_count": 13,
      "metadata": {},
      "outputs": [
        {
          "data": {
            "text/plain": [
              "0.6493816315762113"
            ]
          },
          "execution_count": 13,
          "metadata": {},
          "output_type": "execute_result"
        }
      ],
      "source": [
        "n=1000\n",
        "d=12\n",
        "n**(-1./(d+4))\n"
      ]
    },
    {
      "cell_type": "code",
      "execution_count": 14,
      "metadata": {
        "id": "tHXngvYhO3MX"
      },
      "outputs": [],
      "source": [
        "df=pd.read_csv(\"data/Churn_Modelling.csv\")\n",
        "# df=df.drop(['duration', 'pdays'],axis=1) # duration gives away the answer, and pdays has too much missing info\n",
        "\n",
        "X = df.loc[:, df.columns != 'Exited'].replace(dict(yes=True, no=False))\n",
        "Y = df.loc[:, ['Exited']].replace(dict(yes=True, no=False))"
      ]
    },
    {
      "cell_type": "code",
      "execution_count": 15,
      "metadata": {},
      "outputs": [],
      "source": [
        "categorical_columns = ['Geography', 'Gender', 'HasCrCard', 'IsActiveMember']\n",
        "numerical_columns = ['CreditScore', 'Age', 'Tenure', 'Balance', 'NumOfProducts', 'EstimatedSalary']\n",
        "outputs = ['Exited']"
      ]
    },
    {
      "cell_type": "code",
      "execution_count": 16,
      "metadata": {},
      "outputs": [],
      "source": [
        "for category in categorical_columns:\n",
        "    df[category] = df[category].astype('category')"
      ]
    },
    {
      "cell_type": "code",
      "execution_count": 17,
      "metadata": {},
      "outputs": [],
      "source": [
        "def OHE(x):\n",
        "    dim = np.max(x)\n",
        "    y = np.zeros((len(x),dim+1))\n",
        "    for i in range(len(x)):\n",
        "        y[i][x[i]] = 1\n",
        "    return(y)"
      ]
    },
    {
      "cell_type": "code",
      "execution_count": 18,
      "metadata": {},
      "outputs": [],
      "source": [
        "geo = OHE(df['Geography'].cat.codes.values)\n",
        "gen =  np.asarray(df['Gender'].cat.codes.values)\n",
        "hcc =  np.asarray(df['HasCrCard'].cat.codes.values)\n",
        "iam =  np.asarray(df['IsActiveMember'].cat.codes.values)\n",
        "\n",
        "categorical_data = np.stack(( gen, hcc, iam), axis=1)\n",
        "# categorical_data = torch.tensor(categorical_data, dtype=torch.int64)\n",
        "numerical_data = np.stack([df[col].values for col in numerical_columns], 1)\n",
        "# numerical_data = torch.tensor(numerical_data, dtype=torch.float)\n",
        "X = np.concatenate((numerical_data, categorical_data,geo), axis=1)\n",
        "Y = df[outputs].values\n",
        "# outputs = torch.tensor(df[outputs].values).flatten()"
      ]
    },
    {
      "cell_type": "code",
      "execution_count": 19,
      "metadata": {},
      "outputs": [],
      "source": [
        "def normalize(x):\n",
        "    x_normed = x / x.max(0, keepdim=True)[0]\n",
        "    return x_normed\n",
        "\n"
      ]
    },
    {
      "cell_type": "code",
      "execution_count": 20,
      "metadata": {},
      "outputs": [],
      "source": [
        "X = torch.Tensor(X)\n",
        "Y = torch.Tensor(Y)\n",
        "X = normalize(X)"
      ]
    },
    {
      "cell_type": "code",
      "execution_count": 21,
      "metadata": {
        "id": "RSikHVAlO3MY"
      },
      "outputs": [],
      "source": [
        "X_train, X_test, Y_train, Y_test = train_test_split(X, Y, test_size=0.2)"
      ]
    },
    {
      "cell_type": "markdown",
      "metadata": {},
      "source": [
        "## Estimating Data Densities"
      ]
    },
    {
      "cell_type": "markdown",
      "metadata": {},
      "source": [
        "#### Gaussian Kernel Density Estimation & Derivative"
      ]
    },
    {
      "cell_type": "code",
      "execution_count": 22,
      "metadata": {},
      "outputs": [],
      "source": [
        "def gau_ker(u):\n",
        "    return torch.pow(2*torch.tensor(torch.pi),u.shape[1]/(-2))*torch.exp(torch.bmm(u.view(u.shape[0], 1, u.shape[1]), u.view(u.shape[0],  u.shape[1],1))/(-2))\n",
        "\n",
        "\n",
        "def py_kde(x,X_t,h):\n",
        "    norm = X_t.shape[0]*(h**x.shape[1])\n",
        "    prob = torch.zeros(x.shape[0]).cuda()\n",
        "    for i in range(len(X_t)):\n",
        "        prob+= (torch.squeeze(gau_ker((x - X_t[i])/h))/norm).cuda()\n",
        "    return(prob)\n",
        "\n",
        "\n",
        "def py_kde_der(p_x,x):\n",
        "    # x.requires_grad = True\n",
        "    # p_x = py_kde(x,X_t,h)\n",
        "    return (torch.autograd.grad(p_x,x,torch.ones_like(p_x),allow_unused=True,create_graph=True)[0]).cuda()\n",
        "\n",
        "\n",
        "def gau_ker_der(X,h):\n",
        "    N= X.shape[0]\n",
        "    d = X.shape[1]\n",
        "    grad = torch.zeros(X.shape)\n",
        "    for n in range(N):\n",
        "        for i in range(d):\n",
        "            for j in range(N):\n",
        "                grad[n][i]+= torch.exp(-1*torch.dot((X[n]-X[j]),(X[n]-X[j]))/(2*h*h))*(X[n][i] -X[j][i]) /(N*(h**(d+2))*((2*math.pi)**(d/2)))\n",
        "\n",
        "    return grad"
      ]
    },
    {
      "cell_type": "markdown",
      "metadata": {},
      "source": [
        "#### Confidence Intervals"
      ]
    },
    {
      "cell_type": "code",
      "execution_count": 23,
      "metadata": {},
      "outputs": [],
      "source": [
        "\n",
        "def CI_KDE(p_x,n,h,d,alpha):\n",
        "    return( stats.norm.ppf(1-alpha/2)*torch.sqrt(p_x/((2**d)*math.sqrt(torch.pi**d)*n*h**(d))) )\n",
        "\n",
        "def CI_KDE_der(p_x_der,p_x,n,h,d,alpha):\n",
        "    return( p_x_der*stats.norm.ppf(1-alpha/2)*torch.sqrt(1/(p_x.unsqueeze(dim=1)*(2**d)*math.sqrt(torch.pi**d)*n*h**(d))) )"
      ]
    },
    {
      "cell_type": "markdown",
      "metadata": {},
      "source": [
        "#### Example on Data"
      ]
    },
    {
      "cell_type": "code",
      "execution_count": 24,
      "metadata": {},
      "outputs": [],
      "source": [
        "h=0.65\n",
        "x = X[0:1000].detach().cuda()\n",
        "x.requires_grad = True\n",
        "f = py_kde(x,x,h)\n",
        "f_der = py_kde_der(f,x)"
      ]
    },
    {
      "cell_type": "code",
      "execution_count": 25,
      "metadata": {},
      "outputs": [],
      "source": [
        "n = X.shape[0]\n",
        "d = X.shape[1]\n",
        "alpha =0.0001"
      ]
    },
    {
      "cell_type": "code",
      "execution_count": 26,
      "metadata": {},
      "outputs": [],
      "source": [
        "ci = CI_KDE(f,n,h,d,alpha)\n",
        "ci_der = CI_KDE_der(f_der,f,n,h,d,alpha)"
      ]
    },
    {
      "cell_type": "code",
      "execution_count": 27,
      "metadata": {},
      "outputs": [
        {
          "data": {
            "text/plain": [
              "tensor(0.0403, device='cuda:0', grad_fn=<LinalgVectorNormBackward0>)"
            ]
          },
          "execution_count": 27,
          "metadata": {},
          "output_type": "execute_result"
        }
      ],
      "source": [
        "torch.norm((ci_der/f.view(-1,1))[0])"
      ]
    },
    {
      "cell_type": "code",
      "execution_count": 28,
      "metadata": {},
      "outputs": [
        {
          "data": {
            "text/plain": [
              "tensor(1.8513, device='cuda:0', grad_fn=<LinalgVectorNormBackward0>)"
            ]
          },
          "execution_count": 28,
          "metadata": {},
          "output_type": "execute_result"
        }
      ],
      "source": [
        "torch.norm(ci_der/f.view(-1,1))"
      ]
    },
    {
      "cell_type": "code",
      "execution_count": 29,
      "metadata": {},
      "outputs": [
        {
          "data": {
            "text/plain": [
              "tensor([[ 6.8255e-07, -5.1870e-07,  5.3233e-06,  ..., -1.8655e-06,\n",
              "          8.5586e-07,  1.0096e-06],\n",
              "        [ 6.5446e-07, -1.2829e-07,  4.2369e-06,  ...,  1.6794e-06,\n",
              "          1.0232e-06, -2.7026e-06],\n",
              "        [ 3.0163e-06, -7.6364e-07, -4.3834e-06,  ..., -1.9228e-06,\n",
              "          1.1064e-06,  8.1638e-07],\n",
              "        ...,\n",
              "        [ 1.0246e-06, -3.1481e-06, -2.0484e-06,  ...,  1.6132e-06,\n",
              "          8.9832e-07, -2.5115e-06],\n",
              "        [-2.8924e-06,  1.7713e-06,  1.2602e-06,  ...,  1.8684e-06,\n",
              "         -2.9437e-06,  1.0753e-06],\n",
              "        [-2.0102e-06,  1.4673e-07,  5.4403e-06,  ..., -1.5799e-06,\n",
              "          8.3815e-07,  7.4178e-07]], device='cuda:0', grad_fn=<MulBackward0>)"
            ]
          },
          "execution_count": 29,
          "metadata": {},
          "output_type": "execute_result"
        }
      ],
      "source": [
        "ci_der"
      ]
    },
    {
      "cell_type": "code",
      "execution_count": 30,
      "metadata": {},
      "outputs": [
        {
          "data": {
            "text/plain": [
              "tensor([ 0.0024, -0.0018,  0.0184,  0.0164,  0.0092, -0.0019,  0.0221, -0.0084,\n",
              "        -0.0174, -0.0064,  0.0030,  0.0035], device='cuda:0',\n",
              "       grad_fn=<DivBackward0>)"
            ]
          },
          "execution_count": 30,
          "metadata": {},
          "output_type": "execute_result"
        }
      ],
      "source": [
        "ci_der[0]/float(f[0])"
      ]
    },
    {
      "cell_type": "markdown",
      "metadata": {},
      "source": [
        "## Training the model"
      ]
    },
    {
      "cell_type": "code",
      "execution_count": 31,
      "metadata": {},
      "outputs": [],
      "source": [
        "import torch\n",
        "import torch.nn as nn\n",
        "import torch.nn.functional as F\n",
        "class Net(nn.Module):\n",
        "    def __init__(self,p):\n",
        "        super(Net, self ).__init__()\n",
        "        \n",
        "        self.loss_reg = 0\n",
        "        self.p =p \n",
        "        self.x = 0\n",
        "        self.y = 0\n",
        "        self.H_net1 = nn.Sequential(\n",
        "            nn.Linear(12, 48),\n",
        "            nn.Sigmoid(),\n",
        "            nn.Linear(48, 24),\n",
        "            nn.Sigmoid(),\n",
        "            nn.Linear(24, 144).cuda()\n",
        "\n",
        "        )\n",
        "        self.X_net = nn.Sequential(\n",
        "            nn.Linear(12, 16),\n",
        "            nn.ReLU(),\n",
        "            # nn.Linear(48, 48),\n",
        "            # nn.ReLU(),\n",
        "            nn.Linear(16, 1),\n",
        "            nn.Sigmoid()\n",
        "\n",
        "        )\n",
        "        \n",
        "    def forward(self, x):\n",
        "        def H_mul(z):\n",
        "            H12 = self.H_net1(z)\n",
        "            H12= H12.reshape(z.shape[0],d,d)\n",
        "            x12 = torch.matmul(z,H12)\n",
        "            return(x12)\n",
        "    \n",
        "        \n",
        "        def batch_jacobian(func, z, create_graph=False):\n",
        "            # x in shape (Batch, Length)\n",
        "            def _func_sum(z):\n",
        "                return func(z).sum(dim=0)\n",
        "            return torch.squeeze(torch.autograd.functional.jacobian(_func_sum, z, create_graph=create_graph)).permute(1,0,2)\n",
        "        \n",
        "        x.requires_grad =True\n",
        "        p = self.p\n",
        "        self.x = x\n",
        "        d = x.shape[1]\n",
        "        bs = x.shape[0]\n",
        "        x= torch.unsqueeze(x,1)\n",
        "        z = x.cuda()\n",
        "        loss_reg = torch.zeros(bs,d).cuda()\n",
        "        for i in range(p):\n",
        "            H = self.H_net1(z).cuda()\n",
        "            H = H.reshape(bs,d,d)\n",
        "            z = torch.matmul(z,H).cuda()\n",
        "            J = batch_jacobian(H_mul, z, create_graph=True)\n",
        "            J_int =-torch.log(torch.abs(torch.det(J)))\n",
        "            loss_reg = loss_reg + torch.squeeze(torch.autograd.grad(J_int, x,torch.ones_like(J_int),allow_unused=True,create_graph= True)[0]).cuda()\n",
        "        self.loss_reg = loss_reg\n",
        "        self.y = z\n",
        "        y = self.X_net(z)\n",
        "        return y"
      ]
    },
    {
      "cell_type": "code",
      "execution_count": 32,
      "metadata": {},
      "outputs": [
        {
          "data": {
            "text/plain": [
              "tensor([[[0.7670]],\n",
              "\n",
              "        [[0.5325]],\n",
              "\n",
              "        [[0.9684]]], device='cuda:0', grad_fn=<SigmoidBackward0>)"
            ]
          },
          "execution_count": 32,
          "metadata": {},
          "output_type": "execute_result"
        }
      ],
      "source": [
        "net = Net(10).cuda()\n",
        "net(X_train[0:3].cuda())"
      ]
    },
    {
      "cell_type": "code",
      "execution_count": 33,
      "metadata": {},
      "outputs": [
        {
          "data": {
            "text/plain": [
              "tensor([[  0.2150,   0.0528,  -1.4557,  -0.8471,  -0.1672,   0.2958,  -1.3538,\n",
              "           0.3180,   0.4657,   0.2482,  -0.3461,  -0.2947],\n",
              "        [ -1.4400,  -0.9708,  -2.4521,   5.6186,  -0.1683,   0.3752,  -3.5791,\n",
              "          -0.9337,  -4.5138,  -3.1731,  -0.5164,  -3.8039],\n",
              "        [-33.7263,  24.5918,  16.5738, -42.7060, -22.5589,  12.1098,   4.1549,\n",
              "         -13.3294,  39.4987,  16.8790,  18.9683,  15.5196]], device='cuda:0',\n",
              "       grad_fn=<SubBackward0>)"
            ]
          },
          "execution_count": 33,
          "metadata": {},
          "output_type": "execute_result"
        }
      ],
      "source": [
        "net.loss_reg - f_der[0:3]/f[0:3].view(f[0:3].shape[0],1)"
      ]
    },
    {
      "cell_type": "code",
      "execution_count": 34,
      "metadata": {
        "id": "cCPV_zl0O3Mc"
      },
      "outputs": [],
      "source": [
        "import torch.optim as optim\n",
        "\n",
        "criterion = nn.BCELoss(reduction= 'none')\n",
        "def my_loss(y_pred,y_train,reg_loss):\n",
        "    loss = criterion(y_pred,y_train) +reg_loss\n",
        "    return loss\n",
        "# optimizer = optim.SGD(net.parameters(), lr=0.001, momentum=0.9)\n",
        "torch.autograd.set_detect_anomaly(False)\n",
        "net_5 = Net(10)\n",
        "import torch.optim.lr_scheduler as lr_scheduler\n",
        " \n"
      ]
    },
    {
      "cell_type": "code",
      "execution_count": 35,
      "metadata": {},
      "outputs": [],
      "source": [
        "def train_model_priv(net,trainloader,optimizer,epochs,h,rate=10,device= torch.device('cpu'),print_cond = True,only_reg_flag=0):\n",
        "    # scheduler = lr_scheduler.StepLR(optimizer, step_size=30, gamma=0.1)\n",
        "    for epoch in range(epochs):  # loop over the dataset multiple times\n",
        "        # scheduler.step()\n",
        "        running_loss = 0.0\n",
        "        net = net.to(device)\n",
        "        for i, data in enumerate(trainloader, 0):\n",
        "            # get the inputs; data is a list of [inputs, labels]\n",
        "            \n",
        "            inputs = data[0].to(device)\n",
        "            inputs.requires_grad = True\n",
        "            labels = data[1].to(device)\n",
        "            f = py_kde(inputs,inputs,h)\n",
        "            f_der = py_kde_der(f,inputs)\n",
        "          \n",
        "            # zero the parameter gradients\n",
        "            optimizer.zero_grad()\n",
        "            # forward + backward + optimize\n",
        "            outputs = net(inputs)\n",
        "            if(only_reg_flag):\n",
        "                loss = torch.norm(f_der/f.view(f.shape[0],1)+ net.loss_reg,dim=1)\n",
        "            else:\n",
        "                loss = criterion(torch.squeeze(outputs),torch.squeeze(labels)) + torch.norm(f_der/f.view(f.shape[0],1)+ net.loss_reg,dim=1)\n",
        "            loss.backward(torch.ones_like(loss),retain_graph=True)\n",
        "            optimizer.step()\n",
        "\n",
        "      \n",
        "            # print statistics\n",
        "            # print(loss.sum().shape)\n",
        "            running_loss += loss.sum()\n",
        "            # if i % 100 == 99:    # print every 2000 mini-batches\n",
        "        if(epoch%rate==rate-1):\n",
        "            if(print_cond):\n",
        "                print('%d loss: %.10f' %\n",
        "                        (epoch + 1, running_loss /(rate*len(trainloader.dataset))))\n",
        "                running_loss = 0.0\n",
        "\n",
        "    print('Finished Training')\n"
      ]
    },
    {
      "cell_type": "code",
      "execution_count": 36,
      "metadata": {},
      "outputs": [],
      "source": [
        "#write torch.adam optimizer which first warms up and then decays\n",
        "\n",
        "\n"
      ]
    },
    {
      "cell_type": "code",
      "execution_count": 37,
      "metadata": {},
      "outputs": [
        {
          "name": "stdout",
          "output_type": "stream",
          "text": [
            "1 loss: 3.8269534111\n",
            "2 loss: 3.0497708321\n",
            "3 loss: 2.9040632248\n",
            "4 loss: 2.7770833969\n",
            "5 loss: 2.6772150993\n",
            "Finished Training\n"
          ]
        }
      ],
      "source": [
        "train = torch.utils.data.TensorDataset(X_train,Y_train)\n",
        "train_priv = torch.utils.data.TensorDataset(X,Y)\n",
        "\n",
        "trainloader_priv = torch.utils.data.DataLoader(train_priv, batch_size=1000,\n",
        "                                          shuffle=True, num_workers=2)\n",
        "net_5 = Net(3)\n",
        "optim = torch.optim.Adam(net_5.parameters(),lr=0.01)\n",
        "train_model_priv(net_5,trainloader_priv,optim,5,h=0.65,rate=1,device=torch.device('cuda'),only_reg_flag=1)"
      ]
    },
    {
      "cell_type": "code",
      "execution_count": 34,
      "metadata": {},
      "outputs": [
        {
          "name": "stdout",
          "output_type": "stream",
          "text": [
            "1 loss: 2.8099992275\n",
            "2 loss: 2.4453482628\n",
            "3 loss: 2.0053462982\n",
            "4 loss: 1.8305778503\n",
            "5 loss: 1.4373526573\n",
            "6 loss: 1.2463039160\n",
            "7 loss: 1.0928441286\n",
            "8 loss: 1.0100624561\n",
            "9 loss: 0.9492591619\n",
            "10 loss: 0.9543683529\n",
            "11 loss: 0.8591307402\n",
            "12 loss: 0.8429867029\n",
            "13 loss: 0.8223188519\n",
            "14 loss: 0.8133831620\n",
            "15 loss: 0.7906615734\n",
            "16 loss: 0.7793525457\n",
            "17 loss: 0.7564795017\n",
            "18 loss: 0.7168283463\n",
            "19 loss: 0.7477931976\n",
            "20 loss: 0.7275117636\n",
            "21 loss: 0.7567098737\n",
            "22 loss: 0.7445353866\n",
            "23 loss: 0.7447450757\n",
            "24 loss: 0.7080577016\n",
            "25 loss: 0.6747940183\n",
            "26 loss: 0.6519592404\n",
            "27 loss: 0.6679731011\n",
            "28 loss: 0.7095085979\n",
            "29 loss: 0.7323722243\n",
            "30 loss: 0.6936945319\n",
            "Finished Training\n"
          ]
        }
      ],
      "source": [
        "optim = torch.optim.Adam(net_5.parameters(),lr=0.01)\n",
        "train_model_priv(net_5,trainloader_priv,optim,30,h=0.65,rate=1,device=torch.device('cuda'),only_reg_flag=1)"
      ]
    },
    {
      "cell_type": "code",
      "execution_count": 35,
      "metadata": {},
      "outputs": [
        {
          "name": "stdout",
          "output_type": "stream",
          "text": [
            "1 loss: 1.2841753960\n",
            "2 loss: 1.1753804684\n",
            "3 loss: 1.1426836252\n",
            "4 loss: 1.1374456882\n",
            "5 loss: 1.1311126947\n",
            "6 loss: 1.0961644650\n",
            "7 loss: 1.1231994629\n",
            "8 loss: 1.1206990480\n",
            "9 loss: 1.1151359081\n",
            "10 loss: 1.0391232967\n",
            "11 loss: 1.0263444185\n",
            "12 loss: 1.0227079391\n",
            "13 loss: 1.0137541294\n",
            "14 loss: 0.9767276049\n",
            "15 loss: 1.0190696716\n",
            "16 loss: 1.0212602615\n",
            "17 loss: 0.9718999863\n",
            "18 loss: 1.0058130026\n",
            "19 loss: 0.9561971426\n",
            "20 loss: 0.9638320804\n",
            "Finished Training\n"
          ]
        }
      ],
      "source": [
        "train_model_priv(net_5,trainloader_priv,optim,20,h=0.65,rate=1,device=torch.device('cuda'),only_reg_flag=0)"
      ]
    },
    {
      "cell_type": "code",
      "execution_count": 36,
      "metadata": {},
      "outputs": [
        {
          "name": "stdout",
          "output_type": "stream",
          "text": [
            "1 loss: 1.0279887915\n",
            "2 loss: 0.8758187294\n",
            "3 loss: 0.8489959836\n",
            "4 loss: 0.8448605537\n",
            "5 loss: 0.8281965852\n",
            "6 loss: 0.8061122298\n",
            "7 loss: 0.8135287762\n",
            "8 loss: 0.8008967638\n",
            "9 loss: 0.8267527223\n",
            "10 loss: 0.8310554624\n",
            "Finished Training\n"
          ]
        }
      ],
      "source": [
        "optim = torch.optim.Adam(net_5.parameters(),lr=0.003)\n",
        "train_model_priv(net_5,trainloader_priv,optim,10,h=0.65,rate=1,device=torch.device('cuda'),only_reg_flag=0)"
      ]
    },
    {
      "cell_type": "code",
      "execution_count": null,
      "metadata": {},
      "outputs": [],
      "source": [
        "#write function to save net_5 model\n",
        "# torch.save(net_5.state_dict(), \"net_5.pth\")\n",
        "# not just weights but entire modek\n",
        "torch.save(net_5, \"Models/net_6_complete\")"
      ]
    },
    {
      "cell_type": "markdown",
      "metadata": {},
      "source": [
        "## Upper bound on Epsilon\n"
      ]
    },
    {
      "cell_type": "code",
      "execution_count": 37,
      "metadata": {},
      "outputs": [],
      "source": [
        "data=X\n",
        "\n",
        "# m1 = torch.load(\"Models/net_5_5.pth\")\n",
        "m1 = net_5\n",
        "losses= torch.zeros(X.shape[0])\n",
        "bs = 1000\n",
        "n = bs\n",
        "h = 0.65\n",
        "d = X.shape[1]\n",
        "alpha= 0.0001\n",
        "for ct in range(0,len(X),bs):\n",
        "    x = data[ct:bs+ct].detach()\n",
        "    x_hat = m1(x)\n",
        "    f = py_kde(x,x,0.65)\n",
        "    f_der = py_kde_der(f,x)\n",
        "    ci = CI_KDE(f,n,h,d,alpha)\n",
        "    ci_der = CI_KDE_der(f_der,f,n,h,d,alpha)\n",
        "    loss =torch.max(torch.linalg.norm(f_der/(f-ci).view(f.shape[0],1)+m1.loss_reg,dim=1),torch.linalg.norm(f_der/(f+ci).view(f.shape[0],1)+m1.loss_reg,dim=1)) + torch.norm(ci_der/f.view(-1,1),dim=1)\n",
        "    losses[ct:bs+ct] =loss"
      ]
    },
    {
      "cell_type": "code",
      "execution_count": 40,
      "metadata": {},
      "outputs": [
        {
          "data": {
            "text/plain": [
              "tensor([0.2897, 0.3066, 0.3142,  ..., 1.8749, 1.9794, 1.9876],\n",
              "       grad_fn=<SortBackward0>)"
            ]
          },
          "execution_count": 40,
          "metadata": {},
          "output_type": "execute_result"
        }
      ],
      "source": [
        "losses"
      ]
    },
    {
      "cell_type": "code",
      "execution_count": 39,
      "metadata": {},
      "outputs": [],
      "source": [
        "#arrange X and Y in ascending order of losses\n",
        "losses,indices = torch.sort(losses)\n",
        "X = X[indices]\n",
        "Y = Y[indices]\n"
      ]
    },
    {
      "cell_type": "code",
      "execution_count": 41,
      "metadata": {},
      "outputs": [
        {
          "data": {
            "image/png": "[encoded data removed]",
            "text/plain": [
              "<Figure size 640x480 with 1 Axes>"
            ]
          },
          "metadata": {},
          "output_type": "display_data"
        }
      ],
      "source": [
        "\n",
        "from matplotlib import pyplot as plt\n",
        "import numpy as np\n",
        " \n",
        " \n",
        "# Creating dataset\n",
        "a = losses.detach()[0:10000]*2.7\n",
        " \n",
        "# Creating histogram\n",
        "fig, ax = plt.subplots()\n",
        "ax.hist(a, bins = np.arange(0,10,0.1))\n",
        " \n",
        "# Show plot\n",
        "plt.show()"
      ]
    },
    {
      "cell_type": "code",
      "execution_count": null,
      "metadata": {},
      "outputs": [
        {
          "data": {
            "image/png": "[encoded data removed]",
            "text/plain": [
              "<Figure size 640x480 with 1 Axes>"
            ]
          },
          "metadata": {},
          "output_type": "display_data"
        }
      ],
      "source": [
        "\n",
        "from matplotlib import pyplot as plt\n",
        "import numpy as np\n",
        " \n",
        " \n",
        "# Creating dataset\n",
        "a = losses.detach()[0:10000]*2.7\n",
        " \n",
        "# Creating histogram\n",
        "fig, ax = plt.subplots()\n",
        "ax.hist(a, bins = np.arange(0,10,0.1))\n",
        " \n",
        "# Show plot\n",
        "plt.show()"
      ]
    },
    {
      "cell_type": "code",
      "execution_count": null,
      "metadata": {},
      "outputs": [],
      "source": [
        "set_eps = 2\n",
        "ind =(losses*2.7 < set_eps).sum()\n",
        "\n"
      ]
    },
    {
      "cell_type": "code",
      "execution_count": null,
      "metadata": {},
      "outputs": [
        {
          "name": "stdout",
          "output_type": "stream",
          "text": [
            "5369\n"
          ]
        }
      ],
      "source": [
        "X_train, X_test, Y_train, Y_test = train_test_split(X[0:ind], Y[0:ind], test_size=0.2)\n",
        "print(len(X_train))\n",
        "o = m1(X_train.detach())\n",
        "X_emb_train = torch.squeeze(m1.y).detach()\n",
        "o = m1(X_test.detach())\n",
        "X_emb_test = torch.squeeze(m1.y).detach()\n",
        "o = m1(X[ind:-1].detach())\n",
        "X_emb_test2 = torch.squeeze(m1.y).detach()\n",
        "Y_test2 = Y[ind:-1]"
      ]
    },
    {
      "cell_type": "code",
      "execution_count": null,
      "metadata": {},
      "outputs": [],
      "source": []
    },
    {
      "cell_type": "code",
      "execution_count": null,
      "metadata": {},
      "outputs": [
        {
          "name": "stdout",
          "output_type": "stream",
          "text": [
            "Train Accuracy 0.8696219325065613 5369\n",
            "Test Accuracy 0.8585256934165955\n",
            "Train Accuracy 0.8752095699310303 5369\n",
            "Test Accuracy 0.8585256934165955\n",
            "Train Accuracy 0.8763270974159241 5369\n",
            "Test Accuracy 0.8570365309715271\n",
            "Train Accuracy 0.8781896233558655 5369\n",
            "Test Accuracy 0.8600149154663086\n",
            "Train Accuracy 0.8787484169006348 5369\n",
            "Test Accuracy 0.8622487187385559\n",
            "Train Accuracy 0.8783758878707886 5369\n",
            "Test Accuracy 0.8585256934165955\n",
            "Train Accuracy 0.8794934153556824 5369\n",
            "Test Accuracy 0.8607594966888428\n",
            "Train Accuracy 0.8791208863258362 5369\n",
            "Test Accuracy 0.8607594966888428\n",
            "Train Accuracy 0.8794934153556824 5369\n",
            "Test Accuracy 0.8607594966888428\n",
            "Train Accuracy 0.8796796798706055 5369\n",
            "Test Accuracy 0.8592703342437744\n"
          ]
        }
      ],
      "source": [
        "\n",
        "# o = autoencoder1(X)\n",
        "# X_embs = torch.squeeze(autoencoder1.y.detach())\n",
        "model = nn.Sequential(\n",
        "    nn.Linear(12, 16),\n",
        "    nn.ReLU(),\n",
        "    # nn.Linear(48, 64),\n",
        "    nn.ReLU(),\n",
        "    # nn.Linear(64, 64),\n",
        "    # nn.ReLU(),\n",
        "    # nn.Linear(64, 32),\n",
        "    # nn.ReLU(),\n",
        "    nn.Linear(16, 1),\n",
        "    nn.Sigmoid(\n",
        "\n",
        "    )\n",
        ")\n",
        "model = model.cuda()\n",
        "loss_fn = nn.BCELoss()  # binary cross entropy\n",
        "# import torch.optim as optim\n",
        "optimizer = torch.optim.Adam(model.parameters(), lr=0.01, weight_decay= 1e-4)\n",
        "n_epochs = 1000\n",
        "batch_size = 1000\n",
        "\n",
        "for epoch in range(n_epochs):\n",
        "    for i in range(0, len(X_emb_train), batch_size):\n",
        "        Xbatch = X_emb_train[i:i+batch_size]\n",
        "        y_pred = model(Xbatch)\n",
        "        ybatch = Y_train[i:i+batch_size]\n",
        "        loss = loss_fn(y_pred.cuda(), ybatch.cuda())\n",
        "        optimizer.zero_grad()\n",
        "        loss.backward()\n",
        "        optimizer.step()\n",
        "    #     print(loss)\n",
        "    # print(f'Finished epoch {epoch}, latest loss {loss}')\n",
        "# compute accuracy (no_grad is optional)\n",
        "    if(epoch%100==99):\n",
        "        with torch.no_grad():\n",
        "            y_pred = model(X_emb_train)\n",
        "            accuracy = (y_pred.round() == Y_train.cuda()).float().mean()\n",
        "            print(f\"Train Accuracy {accuracy}\",len(X_emb_train))\n",
        "            y_pred = model(X_emb_test)\n",
        "            accuracy = (y_pred.round() == Y_test.cuda()).float().mean()\n",
        "            print(f\"Test Accuracy {accuracy}\")\n",
        "            y_pred = model(X_emb_test2)\n",
        "            accuracy = (y_pred.round() == Y_test2.cuda()).float().mean()\n",
        "            # print(f\"Test Accuracy 2 {accuracy}\")\n",
        "\n",
        "# with torch.no_grad():\n",
        "#     y_pred = model(X_emb_test)\n",
        " \n"
      ]
    },
    {
      "cell_type": "code",
      "execution_count": null,
      "metadata": {},
      "outputs": [],
      "source": [
        "with torch.no_grad():\n",
        "    y_pred = model(X_emb_test2)\n",
        "    accuracy = (y_pred.round() == Y_ test2.cuda()).float().mean()\n",
        "    print(f\"Accuracy {accuracy}\")"
      ]
    },
    {
      "cell_type": "code",
      "execution_count": null,
      "metadata": {},
      "outputs": [],
      "source": [
        "ind"
      ]
    },
    {
      "cell_type": "code",
      "execution_count": null,
      "metadata": {},
      "outputs": [],
      "source": [
        "# code to split test train \n",
        "\n",
        "X_train, X_test, Y_train, Y_test = train_test_split(X[0:ind], Y[0:ind], test_size=0.2)\n",
        "X_test2 = X[ind:-1]\n",
        "Y_test2 = Y[ind:-1]"
      ]
    },
    {
      "cell_type": "code",
      "execution_count": null,
      "metadata": {},
      "outputs": [
        {
          "name": "stdout",
          "output_type": "stream",
          "text": [
            "Accuracy 0.869694709777832\n",
            "Accuracy 0.7776087522506714\n"
          ]
        }
      ],
      "source": [
        "model1 = nn.Sequential(\n",
        "    nn.Linear(12, 48),\n",
        "    nn.ReLU(),\n",
        "    nn.Linear(48, 32),\n",
        "    nn.ReLU(),\n",
        "    nn.Linear(32, 1),\n",
        "    nn.Sigmoid(\n",
        "\n",
        "    )\n",
        ")\n",
        "loss_fn = nn.BCELoss()  # binary cross entropy\n",
        "\n",
        "optimizer1 = torch.optim.Adam(model1.parameters(), lr=0.01)\n",
        "n_epochs = 100\n",
        "batch_size = 1000\n",
        " \n",
        "for epoch in range(n_epochs):\n",
        "    for i in range(0, len(X_train), batch_size):\n",
        "        Xbatch = X_train[i:i+batch_size]\n",
        "        y_pred = model1(Xbatch)\n",
        "        ybatch = Y_train[i:i+batch_size]\n",
        "        loss = loss_fn(y_pred, ybatch)\n",
        "        optimizer1.zero_grad()\n",
        "        loss.backward()\n",
        "        optimizer1.step()\n",
        "\n",
        "with torch.no_grad():\n",
        "    y_pred = model1(X_test)\n",
        " \n",
        "accuracy = (y_pred.round() == Y_test).float().mean()\n",
        "print(f\"Accuracy {accuracy}\")\n",
        "with torch.no_grad():\n",
        "    y_pred = model1(X_test2)\n",
        " \n",
        "accuracy = (y_pred.round() == Y_test2).float().mean()\n",
        "print(f\"Accuracy {accuracy}\")"
      ]
    },
    {
      "cell_type": "code",
      "execution_count": null,
      "metadata": {},
      "outputs": [],
      "source": [
        "#jumble orders of X keeping corresponding Y same\n",
        "indices = torch.randperm(X.shape[0])\n",
        "X = X[indices]\n",
        "Y = Y[indices]\n",
        "X_train, X_test, Y_train, Y_test = train_test_split(X[0:ind], Y[0:ind], test_size=0.2)\n",
        "X_test2 = X[ind:-1]\n",
        "Y_test2 = Y[ind:-1]\n",
        "\n"
      ]
    },
    {
      "cell_type": "code",
      "execution_count": null,
      "metadata": {},
      "outputs": [
        {
          "name": "stdout",
          "output_type": "stream",
          "text": [
            "Accuracy 0.8577811121940613\n",
            "Accuracy 0.85123211145401\n"
          ]
        }
      ],
      "source": [
        "model1 = nn.Sequential(\n",
        "    nn.Linear(12, 48),\n",
        "    nn.ReLU(),\n",
        "    nn.Linear(48, 32),\n",
        "    nn.ReLU(),\n",
        "    nn.Linear(32, 1),\n",
        "    nn.Sigmoid(\n",
        "\n",
        "    )\n",
        ")\n",
        "loss_fn = nn.BCELoss()  # binary cross entropy\n",
        "\n",
        "optimizer1 = torch.optim.Adam(model1.parameters(), lr=0.01)\n",
        "n_epochs = 100\n",
        "batch_size = 1000\n",
        " \n",
        "for epoch in range(n_epochs):\n",
        "    for i in range(0, len(X_train), batch_size):\n",
        "        Xbatch = X_train[i:i+batch_size]\n",
        "        y_pred = model1(Xbatch)\n",
        "        ybatch = Y_train[i:i+batch_size]\n",
        "        loss = loss_fn(y_pred, ybatch)\n",
        "        optimizer1.zero_grad()\n",
        "        loss.backward()\n",
        "        optimizer1.step()\n",
        "\n",
        "with torch.no_grad():\n",
        "    y_pred = model1(X_test)\n",
        " \n",
        "accuracy = (y_pred.round() == Y_test).float().mean()\n",
        "print(f\"Accuracy {accuracy}\")\n",
        "with torch.no_grad():\n",
        "    y_pred = model1(X_test2)\n",
        " \n",
        "accuracy = (y_pred.round() == Y_test2).float().mean()\n",
        "print(f\"Accuracy {accuracy}\")"
      ]
    },
    {
      "cell_type": "code",
      "execution_count": null,
      "metadata": {},
      "outputs": [],
      "source": []
    }
  ],
  "metadata": {
    "accelerator": "GPU",
    "colab": {
      "provenance": []
    },
    "kernelspec": {
      "display_name": "torch",
      "language": "python",
      "name": "python3"
    },
    "language_info": {
      "codemirror_mode": {
        "name": "ipython",
        "version": 3
      },
      "file_extension": ".py",
      "mimetype": "text/x-python",
      "name": "python",
      "nbconvert_exporter": "python",
      "pygments_lexer": "ipython3",
      "version": "3.10.12"
    }
  },
  "nbformat": 4,
  "nbformat_minor": 0
}
