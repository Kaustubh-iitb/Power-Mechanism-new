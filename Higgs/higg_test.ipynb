{
 "cells": [
  {
   "cell_type": "code",
   "execution_count": 7,
   "metadata": {
    "metadata": {}
   },
   "outputs": [
    {
     "name": "stdout",
     "output_type": "stream",
     "text": [
      "**Starting data processing** \n",
      " \n",
      " \n",
      "\n",
      " \n",
      " ** Creating embeddings ** \n",
      " \n",
      "  200000\n"
     ]
    },
    {
     "name": "stderr",
     "output_type": "stream",
     "text": [
      "  0%|          | 0/49 [00:03<?, ?it/s]\n"
     ]
    },
    {
     "ename": "KeyboardInterrupt",
     "evalue": "",
     "output_type": "error",
     "traceback": [
      "\u001b[0;31m---------------------------------------------------------------------------\u001b[0m",
      "\u001b[0;31mKeyboardInterrupt\u001b[0m                         Traceback (most recent call last)",
      "Cell \u001b[0;32mIn[7], line 72\u001b[0m\n\u001b[1;32m     70\u001b[0m net\u001b[38;5;241m.\u001b[39mload_state_dict(state_dict)\n\u001b[1;32m     71\u001b[0m trainloader \u001b[38;5;241m=\u001b[39m torch\u001b[38;5;241m.\u001b[39mutils\u001b[38;5;241m.\u001b[39mdata\u001b[38;5;241m.\u001b[39mDataLoader(\u001b[38;5;28mlist\u001b[39m(\u001b[38;5;28mzip\u001b[39m(x_train_tensor, y_train_tensor)), batch_size\u001b[38;5;241m=\u001b[39m\u001b[38;5;241m4096\u001b[39m, shuffle\u001b[38;5;241m=\u001b[39m\u001b[38;5;28;01mFalse\u001b[39;00m)\n\u001b[0;32m---> 72\u001b[0m X_emb_train, losses_train \u001b[38;5;241m=\u001b[39m \u001b[43mcreate_model_embs2\u001b[49m\u001b[43m(\u001b[49m\u001b[43mnet\u001b[49m\u001b[43m,\u001b[49m\u001b[43mtrainloader\u001b[49m\u001b[43m,\u001b[49m\u001b[43mdevice\u001b[49m\u001b[38;5;241;43m=\u001b[39;49m\u001b[43m \u001b[49m\u001b[43mdevice\u001b[49m\u001b[43m,\u001b[49m\u001b[43ml\u001b[49m\u001b[38;5;241;43m=\u001b[39;49m\u001b[38;5;28;43mlen\u001b[39;49m\u001b[43m(\u001b[49m\u001b[43my_train_tensor\u001b[49m\u001b[43m)\u001b[49m\u001b[43m,\u001b[49m\u001b[43mh\u001b[49m\u001b[38;5;241;43m=\u001b[39;49m\u001b[38;5;241;43m0.8\u001b[39;49m\u001b[43m)\u001b[49m\n\u001b[1;32m     73\u001b[0m x_test_tensor \u001b[38;5;241m=\u001b[39m torch\u001b[38;5;241m.\u001b[39mtensor(X_test, dtype\u001b[38;5;241m=\u001b[39mtorch\u001b[38;5;241m.\u001b[39mfloat32)\n\u001b[1;32m     74\u001b[0m \u001b[38;5;66;03m# x_test_tensor = torch.tensor(X_test_scaled, dtype=torch.float32)\u001b[39;00m\n",
      "File \u001b[0;32m~/SF_test/Power-Mechanism-new/Higgs/utils.py:254\u001b[0m, in \u001b[0;36mcreate_model_embs2\u001b[0;34m(net, trainloader, device, l, h)\u001b[0m\n\u001b[1;32m    252\u001b[0m inputs\u001b[38;5;241m.\u001b[39mrequires_grad \u001b[38;5;241m=\u001b[39m \u001b[38;5;28;01mTrue\u001b[39;00m\n\u001b[1;32m    253\u001b[0m labels \u001b[38;5;241m=\u001b[39m data[\u001b[38;5;241m1\u001b[39m]\u001b[38;5;241m.\u001b[39mto(device)\n\u001b[0;32m--> 254\u001b[0m f \u001b[38;5;241m=\u001b[39m \u001b[43mpy_kde\u001b[49m\u001b[43m(\u001b[49m\u001b[43minputs\u001b[49m\u001b[43m,\u001b[49m\u001b[43minputs\u001b[49m\u001b[43m,\u001b[49m\u001b[43mh\u001b[49m\u001b[43m,\u001b[49m\u001b[43mdevice\u001b[49m\u001b[38;5;241;43m=\u001b[39;49m\u001b[43mdevice\u001b[49m\u001b[43m)\u001b[49m\n\u001b[1;32m    257\u001b[0m f_der \u001b[38;5;241m=\u001b[39m py_kde_der(f,inputs,device\u001b[38;5;241m=\u001b[39mdevice)\n\u001b[1;32m    259\u001b[0m ci \u001b[38;5;241m=\u001b[39m CI_KDE(f,n,h,d,alpha,device\u001b[38;5;241m=\u001b[39mdevice)\n",
      "File \u001b[0;32m~/SF_test/Power-Mechanism-new/Higgs/utils.py:101\u001b[0m, in \u001b[0;36mpy_kde\u001b[0;34m(x, X_t, h, device)\u001b[0m\n\u001b[1;32m     99\u001b[0m prob \u001b[38;5;241m=\u001b[39m torch\u001b[38;5;241m.\u001b[39mzeros(x\u001b[38;5;241m.\u001b[39mshape[\u001b[38;5;241m0\u001b[39m])\u001b[38;5;241m.\u001b[39mto(device)\n\u001b[1;32m    100\u001b[0m \u001b[38;5;28;01mfor\u001b[39;00m i \u001b[38;5;129;01min\u001b[39;00m \u001b[38;5;28mrange\u001b[39m(\u001b[38;5;28mlen\u001b[39m(X_t)):\n\u001b[0;32m--> 101\u001b[0m     prob\u001b[38;5;241m+\u001b[39m\u001b[38;5;241m=\u001b[39m (torch\u001b[38;5;241m.\u001b[39msqueeze(\u001b[43mgau_ker\u001b[49m\u001b[43m(\u001b[49m\u001b[43m(\u001b[49m\u001b[43mx\u001b[49m\u001b[43m \u001b[49m\u001b[38;5;241;43m-\u001b[39;49m\u001b[43m \u001b[49m\u001b[43mX_t\u001b[49m\u001b[43m[\u001b[49m\u001b[43mi\u001b[49m\u001b[43m]\u001b[49m\u001b[43m)\u001b[49m\u001b[38;5;241;43m/\u001b[39;49m\u001b[43mh\u001b[49m\u001b[43m)\u001b[49m)\u001b[38;5;241m/\u001b[39mnorm)\u001b[38;5;241m.\u001b[39mto(device)\n\u001b[1;32m    102\u001b[0m \u001b[38;5;28;01mreturn\u001b[39;00m(prob)\n",
      "File \u001b[0;32m~/SF_test/Power-Mechanism-new/Higgs/utils.py:93\u001b[0m, in \u001b[0;36mgau_ker\u001b[0;34m(u, device)\u001b[0m\n\u001b[1;32m     79\u001b[0m         y \u001b[38;5;241m=\u001b[39m \u001b[38;5;28mself\u001b[39m\u001b[38;5;241m.\u001b[39mX_net(z)\n\u001b[1;32m     80\u001b[0m         \u001b[38;5;28;01mreturn\u001b[39;00m y\n\u001b[0;32m---> 93\u001b[0m \u001b[38;5;28;01mdef\u001b[39;00m \u001b[38;5;21mgau_ker\u001b[39m(u,device \u001b[38;5;241m=\u001b[39m torch\u001b[38;5;241m.\u001b[39mdevice(\u001b[38;5;124m'\u001b[39m\u001b[38;5;124mcuda\u001b[39m\u001b[38;5;124m'\u001b[39m)):\n\u001b[1;32m     94\u001b[0m     \u001b[38;5;28;01mreturn\u001b[39;00m torch\u001b[38;5;241m.\u001b[39mpow(\u001b[38;5;241m2\u001b[39m\u001b[38;5;241m*\u001b[39mtorch\u001b[38;5;241m.\u001b[39mtensor(torch\u001b[38;5;241m.\u001b[39mpi),u\u001b[38;5;241m.\u001b[39mshape[\u001b[38;5;241m1\u001b[39m]\u001b[38;5;241m/\u001b[39m(\u001b[38;5;241m-\u001b[39m\u001b[38;5;241m2\u001b[39m))\u001b[38;5;241m*\u001b[39mtorch\u001b[38;5;241m.\u001b[39mexp(torch\u001b[38;5;241m.\u001b[39mbmm(u\u001b[38;5;241m.\u001b[39mview(u\u001b[38;5;241m.\u001b[39mshape[\u001b[38;5;241m0\u001b[39m], \u001b[38;5;241m1\u001b[39m, u\u001b[38;5;241m.\u001b[39mshape[\u001b[38;5;241m1\u001b[39m]), u\u001b[38;5;241m.\u001b[39mview(u\u001b[38;5;241m.\u001b[39mshape[\u001b[38;5;241m0\u001b[39m],  u\u001b[38;5;241m.\u001b[39mshape[\u001b[38;5;241m1\u001b[39m],\u001b[38;5;241m1\u001b[39m))\u001b[38;5;241m/\u001b[39m(\u001b[38;5;241m-\u001b[39m\u001b[38;5;241m2\u001b[39m))\u001b[38;5;241m.\u001b[39mto(device)\n\u001b[1;32m     97\u001b[0m \u001b[38;5;28;01mdef\u001b[39;00m \u001b[38;5;21mpy_kde\u001b[39m(x,X_t,h,device \u001b[38;5;241m=\u001b[39m torch\u001b[38;5;241m.\u001b[39mdevice(\u001b[38;5;124m'\u001b[39m\u001b[38;5;124mcuda\u001b[39m\u001b[38;5;124m'\u001b[39m)):\n",
      "\u001b[0;31mKeyboardInterrupt\u001b[0m: "
     ]
    }
   ],
   "source": [
    "from utils import *\n",
    "import pandas as pd\n",
    "import numpy as np\n",
    "from sklearn.model_selection import train_test_split\n",
    "from xgboost import XGBClassifier\n",
    "from sklearn.ensemble import AdaBoostClassifier\n",
    "from sklearn.ensemble import GradientBoostingClassifier\n",
    "from sklearn.ensemble import RandomForestClassifier\n",
    "from xgboost import XGBClassifier\n",
    "from utils import *\n",
    "import numpy as np\n",
    "import pandas as pd\n",
    "import argparse\n",
    "import wandb\n",
    "import numpy as np\n",
    "import pandas as pd\n",
    "parser = argparse.ArgumentParser()\n",
    "# parser.add_argument('--device', type=str, default='cuda:3', help='Device to train the model on')\n",
    "# parser.add_argument('--epochs', type=int, default=10, help='Number of epochs for training')\n",
    "# parser.add_argument('--lr', type=float, default=0.001, help='Learning rate for training')\n",
    "# parser.add_argument('--batch_size', type=int, default=4096, help='Batch size for training')\n",
    "# parser.add_argument('--batch_size_emb', type=int, default=4096, help='Batch size for embedding')\n",
    "# parser.add_argument('--lambda_loss', type=float, default=1, help='Lambda for loss function')\n",
    "# parser.add_argument('--only_reg_flag', type=int, default=0, help='Flag for only regularizer')\n",
    "# parser.add_argument('--max_steps', type=int, default=10000, help='Max steps for training')\n",
    "# parser.add_argument('--model_path', type=str, default='Models/higg_4096_1',\n",
    "#                     help='Path to the Model to create embeddings')\n",
    "# parser.add_argument('--net_depth',type=int,default= 1,\n",
    "#                     help='Depth of the network')\n",
    "# parser.add_argument('--eps', type=float, default=1.0,\n",
    "#                     help='Set epsilon for the model')\n",
    "                    \n",
    "# args = parser.parse_args()\n",
    "\n",
    "device = torch.device(\"cuda:2\")\n",
    "epochs = 1\n",
    "\n",
    "\n",
    "\n",
    "print(\"**Starting data processing** \\n \\n \")\n",
    "data=pd.read_csv('data/training.csv')\n",
    "df_data = data.drop(columns=['EventId','Weight'])\n",
    "X = df_data.drop(columns=['Label'])  # Features\n",
    "\n",
    "X = np.asarray(pd.get_dummies(X, columns=['PRI_jet_num'], prefix='PRI_jet_num').values, dtype = np.float32)\n",
    "X = X/np.linalg.norm(X, axis=1).max()\n",
    "y = df_data['Label'].values  # Target\n",
    "y = np.where(y == 's', 1, 0)\n",
    "y = np.asarray(y, dtype = np.float32)\n",
    "X_train, X_test, y_train, y_test = train_test_split(X, y, test_size=0.2, random_state=42)\n",
    "\n",
    "import torch\n",
    "\n",
    "# Convert X_train and X_test to tensors\n",
    "x_train_tensor = torch.tensor(X_train)\n",
    "x_test_tensor = torch.tensor(X_test)\n",
    "\n",
    "# Convert y_train and y_test to tensors\n",
    "y_train_tensor = torch.tensor(y_train)\n",
    "y_test_tensor = torch.tensor(y_test)\n",
    "import torch\n",
    "import torch.nn as nn\n",
    "\n",
    "print(\"\\n \\n ** Creating embeddings ** \\n \\n \",len(y_train_tensor))\n",
    "model_path = 'Models/higg_4096_1'\n",
    "state_dict = torch.load(model_path)\n",
    "\n",
    "# Create an instance of Net\n",
    "net = Net_new(1,device=device)\n",
    "net.load_state_dict(state_dict)\n",
    "trainloader = torch.utils.data.DataLoader(list(zip(x_train_tensor, y_train_tensor)), batch_size=4096, shuffle=False)\n",
    "X_emb_train, losses_train = create_model_embs2(net,trainloader,device= device,l=len(y_train_tensor),h=0.8)\n",
    "x_test_tensor = torch.tensor(X_test, dtype=torch.float32)\n",
    "# x_test_tensor = torch.tensor(X_test_scaled, dtype=torch.float32)\n",
    "\n",
    "y_test_tensor = torch.tensor(y_test, dtype=torch.float32)\n",
    "testloader = torch.utils.data.DataLoader(list(zip(x_test_tensor, y_test_tensor)), batch_size=4096, shuffle=False)\n",
    "X_emb_test, losses_test = create_model_embs2(net,testloader,device= device,l=len(y_test_tensor),h=0.8)\n",
    "losses_train,indices = torch.sort(losses_train)\n",
    "\n",
    "# set_eps = args.eps\n",
    "# ind = (losses_train < set_eps).sum()\n",
    "\n",
    "\n",
    "\n",
    "# X_emb_train_priv = X_emb_train[indices][:ind]\n",
    "# Y_train = y_train_tensor[indices][:ind]"
   ]
  },
  {
   "cell_type": "code",
   "execution_count": 4,
   "metadata": {
    "metadata": {}
   },
   "outputs": [
    {
     "name": "stdout",
     "output_type": "stream",
     "text": [
      "['higg_512_50', 'higg_4096_1']\n"
     ]
    }
   ],
   "source": [
    "\n",
    "\n",
    "# Print the directory names\n",
    "print(directory_names)"
   ]
  },
  {
   "cell_type": "code",
   "execution_count": 8,
   "metadata": {
    "metadata": {}
   },
   "outputs": [],
   "source": [
    "model_path = 'Models/higg_4096_1'"
   ]
  },
  {
   "cell_type": "code",
   "execution_count": null,
   "metadata": {
    "metadata": {}
   },
   "outputs": [],
   "source": []
  },
  {
   "cell_type": "code",
   "execution_count": 9,
   "metadata": {
    "metadata": {}
   },
   "outputs": [
    {
     "data": {
      "text/plain": [
       "<generator object walk at 0x7f9d646e6e40>"
      ]
     },
     "execution_count": 9,
     "metadata": {},
     "output_type": "execute_result"
    }
   ],
   "source": [
    " os.walk('./Embeddings')"
   ]
  },
  {
   "cell_type": "code",
   "execution_count": 10,
   "metadata": {
    "metadata": {}
   },
   "outputs": [],
   "source": [
    "# embs_path_folder = './Embeddings/higg_512_50'\n",
    "# torch.save(X_emb_train,embs_path_folder+'/X_emb_train.pt')\n",
    "# torch.save(X_emb_test,embs_path_folder+'/X_emb_test.pt')\n",
    "# torch.save(losses_train,embs_path_folder+'/losses_train.pt')\n",
    "# torch.save(losses_test,embs_path_folder+'/losses_test.pt')"
   ]
  },
  {
   "cell_type": "code",
   "execution_count": 13,
   "metadata": {},
   "outputs": [],
   "source": [
    "import os\n",
    "import torch\n",
    "model_path = 'Models/higg_4096_1'\n",
    "def get_folders(directory):\n",
    "    folders = []\n",
    "    for root, dirs, files in os.walk(directory):\n",
    "        for dir in dirs:\n",
    "            folders.append(dir)\n",
    "    return folders\n",
    "\n",
    "# Specify the directory path\n",
    "directory_path = './Embeddings'\n",
    "\n",
    "# Call the function to get the directory names\n",
    "directory_names = get_folders(directory_path)\n",
    "\n",
    "if(model_path[7:] in directory_names):\n",
    "    dirpth =  './Embeddings/'+model_path[7:]\n",
    "    X_emb_train = torch.load(dirpth+'/X_emb_train.pt')\n",
    "    X_emb_test = torch.load(dirpth+'/X_emb_test.pt')\n",
    "    losses_train = torch.load(dirpth+'/losses_train.pt')\n",
    "    losses_test = torch.load(dirpth+'/losses_test.pt')"
   ]
  },
  {
   "cell_type": "code",
   "execution_count": 14,
   "metadata": {
    "metadata": {}
   },
   "outputs": [
    {
     "data": {
      "image/png": "[encoded data removed]",
      "text/plain": [
       "<Figure size 640x480 with 1 Axes>"
      ]
     },
     "metadata": {},
     "output_type": "display_data"
    }
   ],
   "source": [
    "import matplotlib.pyplot as plt\n",
    "\n",
    "# Assuming losses_test is a list or array containing the loss values\n",
    "\n",
    "\n",
    "# Filter the losses within the range of 0 and 2\n",
    "filtered_losses = [loss for loss in losses_train if 0 <= loss <= 2]\n",
    "\n",
    "# Plot the histogram\n",
    "plt.hist(filtered_losses, bins=230, range=(0, 2))\n",
    "plt.xlabel('Loss')\n",
    "plt.ylabel('Frequency')\n",
    "plt.title('Histogram of Losses')\n",
    "plt.show()"
   ]
  },
  {
   "cell_type": "code",
   "execution_count": 32,
   "metadata": {
    "metadata": {}
   },
   "outputs": [
    {
     "data": {
      "image/png": "[encoded data removed]",
      "text/plain": [
       "<Figure size 640x480 with 1 Axes>"
      ]
     },
     "metadata": {},
     "output_type": "display_data"
    }
   ],
   "source": [
    "import matplotlib.pyplot as plt\n",
    "\n",
    "# Assuming losses_test is a list or array containing the loss values\n",
    "\n",
    "\n",
    "# Filter the losses within the range of 0 and 2\n",
    "filtered_losses = [loss for loss in losses_train if 0 <= loss <= 2]\n",
    "\n",
    "# Plot the histogram\n",
    "plt.hist(filtered_losses, bins=230, range=(0, 2))\n",
    "plt.xlabel('Loss')\n",
    "plt.ylabel('Frequency')\n",
    "plt.title('Histogram of Losses')\n",
    "plt.show()"
   ]
  },
  {
   "cell_type": "code",
   "execution_count": 13,
   "metadata": {
    "metadata": {}
   },
   "outputs": [
    {
     "data": {
      "text/plain": [
       "[0.5, 1.2, 1.8, 0.9, 1.5, 2.1, 0.3, 1.7, 0.6, 1.3]"
      ]
     },
     "execution_count": 13,
     "metadata": {},
     "output_type": "execute_result"
    }
   ],
   "source": [
    "losses_test"
   ]
  },
  {
   "cell_type": "code",
   "execution_count": null,
   "metadata": {},
   "outputs": [],
   "source": []
  }
 ],
 "metadata": {
  "kernelspec": {
   "display_name": "dpo",
   "language": "python",
   "name": "python3"
  },
  "language_info": {
   "codemirror_mode": {
    "name": "ipython",
    "version": 3
   },
   "file_extension": ".py",
   "mimetype": "text/x-python",
   "name": "python",
   "nbconvert_exporter": "python",
   "pygments_lexer": "ipython3",
   "version": "3.12.2"
  }
 },
 "nbformat": 4,
 "nbformat_minor": 2
}
